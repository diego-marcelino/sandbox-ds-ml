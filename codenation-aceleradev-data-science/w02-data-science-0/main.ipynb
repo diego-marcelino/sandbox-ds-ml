{
  "cells": [
    {
      "cell_type": "markdown",
      "metadata": {
        "id": "WwBfWRkKUd2l",
        "colab_type": "text"
      },
      "source": [
        "# Desafio 1\n",
        "\n",
        "Para esse desafio, vamos trabalhar com o data set [Black Friday](https://www.kaggle.com/mehdidag/black-friday), que reúne dados sobre transações de compras em uma loja de varejo.\n",
        "\n",
        "Vamos utilizá-lo para praticar a exploração de data sets utilizando pandas. Você pode fazer toda análise neste mesmo notebook, mas as resposta devem estar nos locais indicados.\n",
        "\n",
        "> Obs.: Por favor, não modifique o nome das funções de resposta."
      ]
    },
    {
      "cell_type": "markdown",
      "metadata": {
        "id": "9qTRncT6Ud2o",
        "colab_type": "text"
      },
      "source": [
        "## _Set up_ da análise"
      ]
    },
    {
      "cell_type": "code",
      "metadata": {
        "id": "QXtoHoBOUd2r",
        "colab_type": "code",
        "colab": {}
      },
      "source": [
        "import pandas as pd\n",
        "import numpy as np"
      ],
      "execution_count": 1,
      "outputs": []
    },
    {
      "cell_type": "code",
      "metadata": {
        "id": "Kkb0JYRhUd25",
        "colab_type": "code",
        "colab": {}
      },
      "source": [
        "csv_url = 'black_friday.csv'\n",
        "black_friday = pd.read_csv(csv_url)"
      ],
      "execution_count": 2,
      "outputs": []
    },
    {
      "cell_type": "markdown",
      "metadata": {
        "id": "qaxxHWaJUd3C",
        "colab_type": "text"
      },
      "source": [
        "## Inicie sua análise a partir daqui"
      ]
    },
    {
      "cell_type": "code",
      "execution_count": 3,
      "metadata": {
        "colab": {
          "base_uri": "https://localhost:8080/",
          "height": 226
        },
        "colab_type": "code",
        "id": "8fWfU94YUd3E",
        "outputId": "11de04dd-45cf-4548-e48a-4b2704e7521e"
      },
      "outputs": [
        {
          "output_type": "execute_result",
          "data": {
            "text/plain": "   User_ID Product_ID Gender   Age  Occupation City_Category  \\\n0  1000001  P00069042      F  0-17          10             A   \n1  1000001  P00248942      F  0-17          10             A   \n2  1000001  P00087842      F  0-17          10             A   \n3  1000001  P00085442      F  0-17          10             A   \n4  1000002  P00285442      M   55+          16             C   \n\n  Stay_In_Current_City_Years  Marital_Status  Product_Category_1  \\\n0                          2               0                   3   \n1                          2               0                   1   \n2                          2               0                  12   \n3                          2               0                  12   \n4                         4+               0                   8   \n\n   Product_Category_2  Product_Category_3  Purchase  \n0                 NaN                 NaN      8370  \n1                 6.0                14.0     15200  \n2                 NaN                 NaN      1422  \n3                14.0                 NaN      1057  \n4                 NaN                 NaN      7969  ",
            "text/html": "<div>\n<style scoped>\n    .dataframe tbody tr th:only-of-type {\n        vertical-align: middle;\n    }\n\n    .dataframe tbody tr th {\n        vertical-align: top;\n    }\n\n    .dataframe thead th {\n        text-align: right;\n    }\n</style>\n<table border=\"1\" class=\"dataframe\">\n  <thead>\n    <tr style=\"text-align: right;\">\n      <th></th>\n      <th>User_ID</th>\n      <th>Product_ID</th>\n      <th>Gender</th>\n      <th>Age</th>\n      <th>Occupation</th>\n      <th>City_Category</th>\n      <th>Stay_In_Current_City_Years</th>\n      <th>Marital_Status</th>\n      <th>Product_Category_1</th>\n      <th>Product_Category_2</th>\n      <th>Product_Category_3</th>\n      <th>Purchase</th>\n    </tr>\n  </thead>\n  <tbody>\n    <tr>\n      <th>0</th>\n      <td>1000001</td>\n      <td>P00069042</td>\n      <td>F</td>\n      <td>0-17</td>\n      <td>10</td>\n      <td>A</td>\n      <td>2</td>\n      <td>0</td>\n      <td>3</td>\n      <td>NaN</td>\n      <td>NaN</td>\n      <td>8370</td>\n    </tr>\n    <tr>\n      <th>1</th>\n      <td>1000001</td>\n      <td>P00248942</td>\n      <td>F</td>\n      <td>0-17</td>\n      <td>10</td>\n      <td>A</td>\n      <td>2</td>\n      <td>0</td>\n      <td>1</td>\n      <td>6.0</td>\n      <td>14.0</td>\n      <td>15200</td>\n    </tr>\n    <tr>\n      <th>2</th>\n      <td>1000001</td>\n      <td>P00087842</td>\n      <td>F</td>\n      <td>0-17</td>\n      <td>10</td>\n      <td>A</td>\n      <td>2</td>\n      <td>0</td>\n      <td>12</td>\n      <td>NaN</td>\n      <td>NaN</td>\n      <td>1422</td>\n    </tr>\n    <tr>\n      <th>3</th>\n      <td>1000001</td>\n      <td>P00085442</td>\n      <td>F</td>\n      <td>0-17</td>\n      <td>10</td>\n      <td>A</td>\n      <td>2</td>\n      <td>0</td>\n      <td>12</td>\n      <td>14.0</td>\n      <td>NaN</td>\n      <td>1057</td>\n    </tr>\n    <tr>\n      <th>4</th>\n      <td>1000002</td>\n      <td>P00285442</td>\n      <td>M</td>\n      <td>55+</td>\n      <td>16</td>\n      <td>C</td>\n      <td>4+</td>\n      <td>0</td>\n      <td>8</td>\n      <td>NaN</td>\n      <td>NaN</td>\n      <td>7969</td>\n    </tr>\n  </tbody>\n</table>\n</div>"
          },
          "metadata": {},
          "execution_count": 3
        }
      ],
      "source": [
        "black_friday.head()"
      ]
    },
    {
      "cell_type": "markdown",
      "metadata": {
        "id": "mlweKOFlUd3L",
        "colab_type": "text"
      },
      "source": [
        "## Questão 1\n",
        "\n",
        "Quantas observações e quantas colunas há no dataset? Responda no formato de uma tuple `(n_observacoes, n_colunas)`."
      ]
    },
    {
      "cell_type": "code",
      "metadata": {
        "id": "C0XgkhGhUd3M",
        "colab_type": "code",
        "colab": {}
      },
      "source": [
        "def q1():\n",
        "    return black_friday.shape"
      ],
      "execution_count": 4,
      "outputs": []
    },
    {
      "cell_type": "code",
      "execution_count": 5,
      "metadata": {
        "colab": {},
        "colab_type": "code",
        "id": "iT_nWuITW6HY"
      },
      "outputs": [
        {
          "output_type": "execute_result",
          "data": {
            "text/plain": "(537577, 12)"
          },
          "metadata": {},
          "execution_count": 5
        }
      ],
      "source": [
        "result = q1()\n",
        "assert type(result) == tuple\n",
        "assert len(result) == 2\n",
        "assert result == (537577, 12)\n",
        "result"
      ]
    },
    {
      "cell_type": "markdown",
      "metadata": {
        "id": "Si2pa3AJUd3U",
        "colab_type": "text"
      },
      "source": [
        "## Questão 2\n",
        "\n",
        "Há quantas mulheres com idade entre 26 e 35 anos no dataset? Responda como um único escalar."
      ]
    },
    {
      "cell_type": "code",
      "metadata": {
        "id": "emsPR98wUd3V",
        "colab_type": "code",
        "colab": {}
      },
      "source": [
        "def q2():\n",
        "    shape = black_friday.loc[\n",
        "        (black_friday['Gender'] == \"F\") & (black_friday['Age'] == '26-35')\n",
        "    ].shape\n",
        "    return int(shape[0])"
      ],
      "execution_count": 6,
      "outputs": []
    },
    {
      "cell_type": "code",
      "execution_count": 7,
      "metadata": {
        "colab": {
          "base_uri": "https://localhost:8080/",
          "height": 34
        },
        "colab_type": "code",
        "id": "0tpYM2gFapSQ",
        "outputId": "08aaf80f-6b4e-44d7-cc74-6284303c21c4"
      },
      "outputs": [
        {
          "output_type": "execute_result",
          "data": {
            "text/plain": "49348"
          },
          "metadata": {},
          "execution_count": 7
        }
      ],
      "source": [
        "result = q2()\n",
        "assert type(result) == int\n",
        "assert result == 49348\n",
        "result"
      ]
    },
    {
      "cell_type": "markdown",
      "metadata": {
        "id": "H67zakdNUd3c",
        "colab_type": "text"
      },
      "source": [
        "## Questão 3\n",
        "\n",
        "Quantos usuários únicos há no dataset? Responda como um único escalar."
      ]
    },
    {
      "cell_type": "code",
      "metadata": {
        "id": "59gXe5MzUd3d",
        "colab_type": "code",
        "colab": {}
      },
      "source": [
        "def q3(feature='User_ID'):\n",
        "    uniques = black_friday.nunique()\n",
        "    return int(uniques[feature])"
      ],
      "execution_count": 8,
      "outputs": []
    },
    {
      "cell_type": "code",
      "execution_count": 9,
      "metadata": {
        "colab": {
          "base_uri": "https://localhost:8080/",
          "height": 34
        },
        "colab_type": "code",
        "id": "PNZ-oCPscRAJ",
        "outputId": "6ef20a6d-5579-4587-98cc-1e704279a425"
      },
      "outputs": [
        {
          "output_type": "execute_result",
          "data": {
            "text/plain": "5891"
          },
          "metadata": {},
          "execution_count": 9
        }
      ],
      "source": [
        "result = q3()\n",
        "assert type(result) == int\n",
        "assert result == 5891\n",
        "result"
      ]
    },
    {
      "cell_type": "markdown",
      "metadata": {
        "id": "xpNdWDUGUd3j",
        "colab_type": "text"
      },
      "source": [
        "## Questão 4\n",
        "\n",
        "Quantos tipos de dados diferentes existem no dataset? Responda como um único escalar."
      ]
    },
    {
      "cell_type": "code",
      "metadata": {
        "id": "PBjgATZeUd3k",
        "colab_type": "code",
        "colab": {}
      },
      "source": [
        "def q4():\n",
        "    return black_friday.dtypes.nunique()"
      ],
      "execution_count": 10,
      "outputs": []
    },
    {
      "cell_type": "code",
      "execution_count": 11,
      "metadata": {
        "colab": {
          "base_uri": "https://localhost:8080/",
          "height": 34
        },
        "colab_type": "code",
        "id": "XVKHQfXIc-UN",
        "outputId": "d6589817-b62d-475c-e9ab-3a03ca9aece9"
      },
      "outputs": [
        {
          "output_type": "execute_result",
          "data": {
            "text/plain": "3"
          },
          "metadata": {},
          "execution_count": 11
        }
      ],
      "source": [
        "result = q4()\n",
        "assert type(result) == int\n",
        "assert result == 3\n",
        "result"
      ]
    },
    {
      "cell_type": "markdown",
      "metadata": {
        "id": "Qb4dLGSWUd3p",
        "colab_type": "text"
      },
      "source": [
        "## Questão 5\n",
        "\n",
        "Qual porcentagem dos registros possui ao menos um valor null (`None`, `ǸaN` etc)? Responda como um único escalar entre 0 e 1."
      ]
    },
    {
      "cell_type": "code",
      "metadata": {
        "id": "4SYFqOVgUd3r",
        "colab_type": "code",
        "colab": {}
      },
      "source": [
        "def q5():\n",
        "    null_row_filter = pd.isnull(black_friday).any(axis=1)\n",
        "    nulls_regs = black_friday[null_row_filter].shape[0]\n",
        "    all_regs = black_friday.shape[0]\n",
        "    return nulls_regs / all_regs"
      ],
      "execution_count": 12,
      "outputs": []
    },
    {
      "cell_type": "code",
      "execution_count": 13,
      "metadata": {
        "colab": {
          "base_uri": "https://localhost:8080/",
          "height": 34
        },
        "colab_type": "code",
        "id": "b9OnPpUy7Iq7",
        "outputId": "47d89afb-6755-48be-b49e-8a950df8a704"
      },
      "outputs": [
        {
          "output_type": "execute_result",
          "data": {
            "text/plain": "0.6944102891306734"
          },
          "metadata": {},
          "execution_count": 13
        }
      ],
      "source": [
        "result = q5()\n",
        "assert type(result) == float\n",
        "assert 0.0 <= result <= 1.0\n",
        "assert round(result, 3) == 0.694\n",
        "result"
      ]
    },
    {
      "cell_type": "markdown",
      "metadata": {
        "id": "mJJ0n-mXUd3w",
        "colab_type": "text"
      },
      "source": [
        "## Questão 6\n",
        "\n",
        "Quantos valores null existem na variável (coluna) com o maior número de null? Responda como um único escalar."
      ]
    },
    {
      "cell_type": "code",
      "metadata": {
        "id": "NBXJZmPZUd3y",
        "colab_type": "code",
        "colab": {}
      },
      "source": [
        "def q6():\n",
        "    null_count = black_friday.isnull().sum()\n",
        "    null_count.sort_values(inplace=True, ascending=False)\n",
        "    return int(null_count[0])"
      ],
      "execution_count": 14,
      "outputs": []
    },
    {
      "cell_type": "code",
      "execution_count": 15,
      "metadata": {
        "colab": {
          "base_uri": "https://localhost:8080/",
          "height": 34
        },
        "colab_type": "code",
        "id": "JFiQl4ADkf4d",
        "outputId": "4c0d9e67-0cc1-4d3c-90b6-683e4bf06a67"
      },
      "outputs": [
        {
          "output_type": "execute_result",
          "data": {
            "text/plain": "373299"
          },
          "metadata": {},
          "execution_count": 15
        }
      ],
      "source": [
        "result = q6()\n",
        "assert type(result) == int\n",
        "assert result == 373299\n",
        "result"
      ]
    },
    {
      "cell_type": "markdown",
      "metadata": {
        "id": "eYr6E2etUd33",
        "colab_type": "text"
      },
      "source": [
        "## Questão 7\n",
        "\n",
        "Qual o valor mais frequente (sem contar nulls) em `Product_Category_3`? Responda como um único escalar."
      ]
    },
    {
      "cell_type": "code",
      "metadata": {
        "id": "0WLV_0fCUd33",
        "colab_type": "code",
        "colab": {}
      },
      "source": [
        "def q7(feature='Product_Category_3'):\n",
        "    mode = black_friday[feature].mode(dropna=True)\n",
        "    return mode[0]"
      ],
      "execution_count": 16,
      "outputs": []
    },
    {
      "cell_type": "code",
      "execution_count": 17,
      "metadata": {
        "colab": {
          "base_uri": "https://localhost:8080/",
          "height": 34
        },
        "colab_type": "code",
        "id": "oKH78pt7fgDb",
        "outputId": "61d214b8-7117-4afb-ecf4-d55e1defa99f"
      },
      "outputs": [
        {
          "output_type": "execute_result",
          "data": {
            "text/plain": "16.0"
          },
          "metadata": {},
          "execution_count": 17
        }
      ],
      "source": [
        "result = q7()\n",
        "assert result\n",
        "assert result == 16\n",
        "result"
      ]
    },
    {
      "cell_type": "markdown",
      "metadata": {
        "id": "KtQ8nKtaUd39",
        "colab_type": "text"
      },
      "source": [
        "## Questão 8\n",
        "\n",
        "Qual a nova média da variável (coluna) `Purchase` após sua normalização? Responda como um único escalar."
      ]
    },
    {
      "cell_type": "code",
      "metadata": {
        "id": "sdiklLOFpDE8",
        "colab_type": "code",
        "colab": {}
      },
      "source": [
        "def normalize(feature):\n",
        "    max_value = black_friday[feature].max()\n",
        "    min_value = black_friday[feature].min()\n",
        "    range_value = max_value - min_value\n",
        "    feature_norm = (black_friday[feature] - min_value) / range_value\n",
        "    return feature_norm"
      ],
      "execution_count": 18,
      "outputs": []
    },
    {
      "cell_type": "code",
      "metadata": {
        "id": "SBGB05DJUd3-",
        "colab_type": "code",
        "colab": {}
      },
      "source": [
        "def q8(feature = 'Purchase'):\n",
        "    feature_norm = normalize(feature)\n",
        "    return float(np.mean(feature_norm))"
      ],
      "execution_count": 19,
      "outputs": []
    },
    {
      "cell_type": "code",
      "execution_count": 20,
      "metadata": {
        "colab": {
          "base_uri": "https://localhost:8080/",
          "height": 34
        },
        "colab_type": "code",
        "id": "2AkNqfh9oFJL",
        "outputId": "07faab85-3773-4b23-fdc7-52f71038afcf"
      },
      "outputs": [
        {
          "output_type": "execute_result",
          "data": {
            "text/plain": "0.3847939036269795"
          },
          "metadata": {},
          "execution_count": 20
        }
      ],
      "source": [
        "result = q8()\n",
        "assert type(result) == float\n",
        "assert 0.0 <= result <= 1.0\n",
        "assert round(result, 3) == 0.385\n",
        "result"
      ]
    },
    {
      "cell_type": "markdown",
      "metadata": {
        "id": "UTLSiPFqUd4F",
        "colab_type": "text"
      },
      "source": [
        "## Questão 9\n",
        "\n",
        "Quantas ocorrências entre -1 e 1 inclusive existem da variáel `Purchase` após sua padronização? Responda como um único escalar."
      ]
    },
    {
      "cell_type": "code",
      "metadata": {
        "id": "vmZOAL6vUd4F",
        "colab_type": "code",
        "colab": {}
      },
      "source": [
        "def q9(feature = 'Purchase'):\n",
        "    feature_norm = normalize(feature)\n",
        "    filter = feature_norm.between(-1, 1, inclusive=False)\n",
        "    return int(len(feature_norm[filter]))"
      ],
      "execution_count": 21,
      "outputs": []
    },
    {
      "cell_type": "code",
      "execution_count": 22,
      "metadata": {
        "colab": {
          "base_uri": "https://localhost:8080/",
          "height": 34
        },
        "colab_type": "code",
        "id": "-gCnOP_dt24m",
        "outputId": "8ee93ced-f9ca-417e-bc86-07bc09cbe20e",
        "tags": []
      },
      "outputs": [
        {
          "output_type": "stream",
          "name": "stdout",
          "text": "537574\n"
        },
        {
          "output_type": "error",
          "ename": "AssertionError",
          "evalue": "",
          "traceback": [
            "\u001b[0;31m---------------------------------------------------------------------------\u001b[0m",
            "\u001b[0;31mAssertionError\u001b[0m                            Traceback (most recent call last)",
            "\u001b[0;32m<ipython-input-22-9a32da65801a>\u001b[0m in \u001b[0;36m<module>\u001b[0;34m\u001b[0m\n\u001b[1;32m      2\u001b[0m \u001b[0;32massert\u001b[0m \u001b[0mtype\u001b[0m\u001b[0;34m(\u001b[0m\u001b[0mresult\u001b[0m\u001b[0;34m)\u001b[0m \u001b[0;34m==\u001b[0m \u001b[0mint\u001b[0m\u001b[0;34m\u001b[0m\u001b[0;34m\u001b[0m\u001b[0m\n\u001b[1;32m      3\u001b[0m \u001b[0mprint\u001b[0m\u001b[0;34m(\u001b[0m\u001b[0mresult\u001b[0m\u001b[0;34m)\u001b[0m\u001b[0;34m\u001b[0m\u001b[0;34m\u001b[0m\u001b[0m\n\u001b[0;32m----> 4\u001b[0;31m \u001b[0;32massert\u001b[0m \u001b[0mresult\u001b[0m \u001b[0;34m==\u001b[0m \u001b[0;36m348631\u001b[0m\u001b[0;34m\u001b[0m\u001b[0;34m\u001b[0m\u001b[0m\n\u001b[0m",
            "\u001b[0;31mAssertionError\u001b[0m: "
          ]
        }
      ],
      "source": [
        "result = q9()\n",
        "assert type(result) == int\n",
        "print(result)\n",
        "assert result == 348631"
      ]
    },
    {
      "cell_type": "markdown",
      "metadata": {
        "id": "JuGmx4A5Ud4K",
        "colab_type": "text"
      },
      "source": [
        "## Questão 10\n",
        "\n",
        "Podemos afirmar que se uma observação é null em `Product_Category_2` ela também o é em `Product_Category_3`? Responda com um bool (`True`, `False`)."
      ]
    },
    {
      "cell_type": "code",
      "metadata": {
        "id": "hWsS5hDBUd4L",
        "colab_type": "code",
        "colab": {}
      },
      "source": [
        "def q10():\n",
        "    cat_2_null = black_friday['Product_Category_2'].isnull()\n",
        "    cat_3_null = black_friday['Product_Category_3'][cat_2_null]\n",
        "    return int(cat_3_null.count()) == 0"
      ],
      "execution_count": 23,
      "outputs": []
    },
    {
      "cell_type": "code",
      "execution_count": 24,
      "metadata": {
        "colab": {
          "base_uri": "https://localhost:8080/",
          "height": 34
        },
        "colab_type": "code",
        "id": "cGGo_0rmyhIo",
        "outputId": "4feb4da2-aada-41bd-914f-393de647c743"
      },
      "outputs": [
        {
          "output_type": "execute_result",
          "data": {
            "text/plain": "True"
          },
          "metadata": {},
          "execution_count": 24
        }
      ],
      "source": [
        "result = q10()\n",
        "assert type(result) == bool\n",
        "assert result\n",
        "result"
      ]
    }
  ],
  "metadata": {
    "kernelspec": {
      "display_name": "Python 3",
      "language": "python",
      "name": "python3"
    },
    "language_info": {
      "codemirror_mode": {
        "name": "ipython",
        "version": 3
      },
      "file_extension": ".py",
      "mimetype": "text/x-python",
      "name": "python",
      "nbconvert_exporter": "python",
      "pygments_lexer": "ipython3",
      "version": "3.8.2-final"
    },
    "colab": {
      "name": "main.ipynb",
      "provenance": []
    }
  },
  "nbformat": 4,
  "nbformat_minor": 0
}
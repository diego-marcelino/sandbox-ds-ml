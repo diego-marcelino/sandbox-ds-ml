{
  "nbformat": 4,
  "nbformat_minor": 0,
  "metadata": {
    "kernelspec": {
      "display_name": "Python 3",
      "language": "python",
      "name": "python3"
    },
    "language_info": {
      "codemirror_mode": {
        "name": "ipython",
        "version": 3
      },
      "file_extension": ".py",
      "mimetype": "text/x-python",
      "name": "python",
      "nbconvert_exporter": "python",
      "pygments_lexer": "ipython3",
      "version": "3.7.3"
    },
    "colab": {
      "name": "codenation-ds-chellenge-4-detailed.ipynb",
      "provenance": [],
      "collapsed_sections": [
        "wBpVXJT9kgL2",
        "oWdJfpAckgMq",
        "-ZHEmWZ5kgMz",
        "QKlz_-35kgM6",
        "jnqZwRBskgNC",
        "bjedmJF7kgNK",
        "6Erve3lbkgNS",
        "InBJhtnDkgNY"
      ]
    }
  },
  "cells": [
    {
      "cell_type": "markdown",
      "metadata": {
        "id": "IL21si8skgLz",
        "colab_type": "text"
      },
      "source": [
        "# Desafio 4\n",
        "\n",
        "Neste desafio, vamos praticar um pouco sobre testes de hipóteses. Utilizaremos o _data set_ [2016 Olympics in Rio de Janeiro](https://www.kaggle.com/rio2016/olympic-games/), que contém dados sobre os atletas das Olimpíadas de 2016 no Rio de Janeiro.\n",
        "\n",
        "Esse _data set_ conta com informações gerais sobre 11538 atletas como nome, nacionalidade, altura, peso e esporte praticado. Estaremos especialmente interessados nas variáveis numéricas altura (`height`) e peso (`weight`). As análises feitas aqui são parte de uma Análise Exploratória de Dados (EDA).\n",
        "\n",
        "> Obs.: Por favor, não modifique o nome das funções de resposta."
      ]
    },
    {
      "cell_type": "markdown",
      "metadata": {
        "id": "wBpVXJT9kgL2",
        "colab_type": "text"
      },
      "source": [
        "## _Setup_ geral"
      ]
    },
    {
      "cell_type": "code",
      "metadata": {
        "id": "cMU3YlnzkgL5",
        "colab_type": "code",
        "colab": {
          "base_uri": "https://localhost:8080/",
          "height": 72
        },
        "outputId": "e25ee0f8-8edc-4dce-ce31-819d4fa5f9e4"
      },
      "source": [
        "import pandas as pd\n",
        "import matplotlib.pyplot as plt\n",
        "import numpy as np\n",
        "import scipy.stats as sct\n",
        "import seaborn as sns\n",
        "import statsmodels.api as sm"
      ],
      "execution_count": 1,
      "outputs": [
        {
          "output_type": "stream",
          "text": [
            "/usr/local/lib/python3.6/dist-packages/statsmodels/tools/_testing.py:19: FutureWarning: pandas.util.testing is deprecated. Use the functions in the public API at pandas.testing instead.\n",
            "  import pandas.util.testing as tm\n"
          ],
          "name": "stderr"
        }
      ]
    },
    {
      "cell_type": "code",
      "metadata": {
        "id": "cuVBi1tVkgMJ",
        "colab_type": "code",
        "colab": {}
      },
      "source": [
        "%matplotlib inline\n",
        "\n",
        "from IPython.core.pylabtools import figsize\n",
        "\n",
        "\n",
        "figsize(12,8)\n",
        "\n",
        "sns.set()"
      ],
      "execution_count": 2,
      "outputs": []
    },
    {
      "cell_type": "code",
      "metadata": {
        "id": "zN-B_Fs5kgMT",
        "colab_type": "code",
        "colab": {}
      },
      "source": [
        "athletes = pd.read_csv(\"athletes.csv\")"
      ],
      "execution_count": 3,
      "outputs": []
    },
    {
      "cell_type": "code",
      "metadata": {
        "id": "14YbVLtokgMb",
        "colab_type": "code",
        "colab": {}
      },
      "source": [
        "def get_sample(df, col_name, n=100, seed=42):\n",
        "    \"\"\"Get a sample from a column of a dataframe.\n",
        "    \n",
        "    It drops any numpy.nan entries before sampling. The sampling\n",
        "    is performed without replacement.\n",
        "    \n",
        "    Example of numpydoc for those who haven't seen yet.\n",
        "    \n",
        "    Parameters\n",
        "    ----------\n",
        "    df : pandas.DataFrame\n",
        "        Source dataframe.\n",
        "    col_name : str\n",
        "        Name of the column to be sampled.\n",
        "    n : int\n",
        "        Sample size. Default is 100.\n",
        "    seed : int\n",
        "        Random seed. Default is 42.\n",
        "    \n",
        "    Returns\n",
        "    -------\n",
        "    pandas.Series\n",
        "        Sample of size n from dataframe's column.\n",
        "    \"\"\"\n",
        "    np.random.seed(seed)\n",
        "    \n",
        "    random_idx = np.random.choice(df[col_name].dropna().index, size=n, replace=False)\n",
        "    \n",
        "    return df.loc[random_idx, col_name]"
      ],
      "execution_count": 4,
      "outputs": []
    },
    {
      "cell_type": "markdown",
      "metadata": {
        "id": "gY4w4rozkgMi",
        "colab_type": "text"
      },
      "source": [
        "## Inicia sua análise a partir daqui"
      ]
    },
    {
      "cell_type": "markdown",
      "metadata": {
        "id": "oWdJfpAckgMq",
        "colab_type": "text"
      },
      "source": [
        "## Questão 1\n",
        "\n",
        "Considerando uma amostra de tamanho 3000 da coluna `height` obtida com a função `get_sample()`, execute o teste de normalidade de Shapiro-Wilk com a função `scipy.stats.shapiro()`. Podemos afirmar que as alturas são normalmente distribuídas com base nesse teste (ao nível de significância de 5%)? Responda com um boolean (`True` ou `False`).\n",
        "\n",
        "> Expected: False"
      ]
    },
    {
      "cell_type": "code",
      "metadata": {
        "id": "bnNAZCMjkgMs",
        "colab_type": "code",
        "colab": {
          "base_uri": "https://localhost:8080/",
          "height": 121
        },
        "outputId": "a086ab15-aa08-45d3-facb-c2d18096693b"
      },
      "source": [
        "col = 'height'\n",
        "sample_size = 3_000\n",
        "significance_level = 0.05 # 5%\n",
        "sample = get_sample(athletes, col, n=sample_size)\n",
        "sample.head()"
      ],
      "execution_count": 6,
      "outputs": [
        {
          "output_type": "execute_result",
          "data": {
            "text/plain": [
              "1811     1.79\n",
              "7962     1.81\n",
              "10280    1.83\n",
              "317      1.68\n",
              "6989     2.01\n",
              "Name: height, dtype: float64"
            ]
          },
          "metadata": {
            "tags": []
          },
          "execution_count": 6
        }
      ]
    },
    {
      "cell_type": "code",
      "metadata": {
        "id": "TV6Bgqa_nXRs",
        "colab_type": "code",
        "colab": {
          "base_uri": "https://localhost:8080/",
          "height": 34
        },
        "outputId": "e06517d6-8675-4c72-b095-a7eb2e2a0e43"
      },
      "source": [
        "_, p_value = sct.shapiro(sample)\n",
        "p_value"
      ],
      "execution_count": 7,
      "outputs": [
        {
          "output_type": "execute_result",
          "data": {
            "text/plain": [
              "5.681722541339695e-07"
            ]
          },
          "metadata": {
            "tags": []
          },
          "execution_count": 7
        }
      ]
    },
    {
      "cell_type": "code",
      "metadata": {
        "id": "-eIyjseOMMOI",
        "colab_type": "code",
        "colab": {
          "base_uri": "https://localhost:8080/",
          "height": 34
        },
        "outputId": "90ebb415-fbd8-40d0-b7db-547625ef59ac"
      },
      "source": [
        "p_value > significance_level"
      ],
      "execution_count": 8,
      "outputs": [
        {
          "output_type": "execute_result",
          "data": {
            "text/plain": [
              "False"
            ]
          },
          "metadata": {
            "tags": []
          },
          "execution_count": 8
        }
      ]
    },
    {
      "cell_type": "markdown",
      "metadata": {
        "id": "In5Gdx9QkgMx",
        "colab_type": "text"
      },
      "source": [
        "__Para refletir__:\n",
        "\n",
        "* Plote o histograma dessa variável (com, por exemplo, `bins=25`). A forma do gráfico e o resultado do teste são condizentes? Por que?"
      ]
    },
    {
      "cell_type": "code",
      "metadata": {
        "id": "w_QItZJKoNbi",
        "colab_type": "code",
        "colab": {
          "base_uri": "https://localhost:8080/",
          "height": 339
        },
        "outputId": "d42f7f98-3947-472e-e29f-f5ef2c4fb0e9"
      },
      "source": [
        "fig, axes = plt.subplots(nrows=1, ncols=2, figsize=(20, 5), sharex=True)\n",
        "sns.distplot(sample, ax=axes[0])\n",
        "sns.distplot(df.height, ax=axes[1])\n",
        "fig.show()"
      ],
      "execution_count": null,
      "outputs": [
        {
          "output_type": "display_data",
          "data": {
            "image/png": "[encoded data removed]",
            "text/plain": [
              "<Figure size 1440x360 with 2 Axes>"
            ]
          },
          "metadata": {
            "tags": []
          }
        }
      ]
    },
    {
      "cell_type": "markdown",
      "metadata": {
        "id": "IeAoQFUtoFaH",
        "colab_type": "text"
      },
      "source": [
        "* Plote o qq-plot para essa variável e a analise."
      ]
    },
    {
      "cell_type": "code",
      "metadata": {
        "id": "46DtG_skAGtn",
        "colab_type": "code",
        "colab": {
          "base_uri": "https://localhost:8080/",
          "height": 987
        },
        "outputId": "2149f597-8f8d-4d06-bdb4-69cb62e80858"
      },
      "source": [
        "sm.qqplot(sample, line='45', fit=True)"
      ],
      "execution_count": null,
      "outputs": [
        {
          "output_type": "execute_result",
          "data": {
            "image/png": "[encoded data removed]",
            "text/plain": [
              "<Figure size 864x576 with 1 Axes>"
            ]
          },
          "metadata": {
            "tags": []
          },
          "execution_count": 18
        },
        {
          "output_type": "display_data",
          "data": {
            "image/png": "[encoded data removed]",
            "text/plain": [
              "<Figure size 864x576 with 1 Axes>"
            ]
          },
          "metadata": {
            "tags": []
          }
        }
      ]
    },
    {
      "cell_type": "markdown",
      "metadata": {
        "id": "QaiLKGcyoHmo",
        "colab_type": "text"
      },
      "source": [
        "* Existe algum nível de significância razoável que nos dê outro resultado no teste? (Não faça isso na prática. Isso é chamado _p-value hacking_, e não é legal)."
      ]
    },
    {
      "cell_type": "markdown",
      "metadata": {
        "id": "-ZHEmWZ5kgMz",
        "colab_type": "text"
      },
      "source": [
        "## Questão 2\n",
        "\n",
        "Repita o mesmo procedimento acima, mas agora utilizando o teste de normalidade de Jarque-Bera através da função `scipy.stats.jarque_bera()`. Agora podemos afirmar que as alturas são normalmente distribuídas (ao nível de significância de 5%)? Responda com um boolean (`True` ou `False`).\n",
        "\n",
        "> Expected: False"
      ]
    },
    {
      "cell_type": "code",
      "metadata": {
        "id": "rqvxW49lkgM1",
        "colab_type": "code",
        "colab": {
          "base_uri": "https://localhost:8080/",
          "height": 34
        },
        "outputId": "2698a839-6bc9-402a-a3f9-a8acf60ccca1"
      },
      "source": [
        "significance_level = 0.05 # 5%\n",
        "_, p_value = sct.jarque_bera(sample)\n",
        "p_value"
      ],
      "execution_count": 9,
      "outputs": [
        {
          "output_type": "execute_result",
          "data": {
            "text/plain": [
              "0.001478366424594868"
            ]
          },
          "metadata": {
            "tags": []
          },
          "execution_count": 9
        }
      ]
    },
    {
      "cell_type": "code",
      "metadata": {
        "id": "qIXKubJvRZS0",
        "colab_type": "code",
        "colab": {
          "base_uri": "https://localhost:8080/",
          "height": 34
        },
        "outputId": "99e1397b-8d2a-4483-974e-79e661020ea0"
      },
      "source": [
        "p_value > significance_level"
      ],
      "execution_count": 10,
      "outputs": [
        {
          "output_type": "execute_result",
          "data": {
            "text/plain": [
              "False"
            ]
          },
          "metadata": {
            "tags": []
          },
          "execution_count": 10
        }
      ]
    },
    {
      "cell_type": "markdown",
      "metadata": {
        "id": "XPS2-nWOkgM5",
        "colab_type": "text"
      },
      "source": [
        "__Para refletir__:\n",
        "\n",
        "* Esse resultado faz sentido?"
      ]
    },
    {
      "cell_type": "markdown",
      "metadata": {
        "id": "QKlz_-35kgM6",
        "colab_type": "text"
      },
      "source": [
        "## Questão 3\n",
        "\n",
        "Considerando agora uma amostra de tamanho 3000 da coluna `weight` obtida com a função `get_sample()`. Faça o teste de normalidade de D'Agostino-Pearson utilizando a função `scipy.stats.normaltest()`. Podemos afirmar que os pesos vêm de uma distribuição normal ao nível de significância de 5%? Responda com um boolean (`True` ou `False`).\n",
        "\n",
        "> Expected: False"
      ]
    },
    {
      "cell_type": "code",
      "metadata": {
        "id": "Z8zohhnskgM8",
        "colab_type": "code",
        "colab": {
          "base_uri": "https://localhost:8080/",
          "height": 34
        },
        "outputId": "d0a5f994-24ca-4aaf-e7b8-9821b1381b26"
      },
      "source": [
        "weight_sample = get_sample(athletes, 'weight', n=3000)\n",
        "significance_level = 0.05 # 5%\n",
        "_, p_value = sct.normaltest(weight_sample)\n",
        "p_value"
      ],
      "execution_count": 12,
      "outputs": [
        {
          "output_type": "execute_result",
          "data": {
            "text/plain": [
              "1.5898922918029537e-111"
            ]
          },
          "metadata": {
            "tags": []
          },
          "execution_count": 12
        }
      ]
    },
    {
      "cell_type": "code",
      "metadata": {
        "id": "mu8JRXq1Rhqj",
        "colab_type": "code",
        "colab": {
          "base_uri": "https://localhost:8080/",
          "height": 34
        },
        "outputId": "d46295f7-d2c1-4d61-8f5d-ac761effca12"
      },
      "source": [
        "p_value > significance_level"
      ],
      "execution_count": 13,
      "outputs": [
        {
          "output_type": "execute_result",
          "data": {
            "text/plain": [
              "False"
            ]
          },
          "metadata": {
            "tags": []
          },
          "execution_count": 13
        }
      ]
    },
    {
      "cell_type": "markdown",
      "metadata": {
        "id": "yvPf3IiwkgNA",
        "colab_type": "text"
      },
      "source": [
        "__Para refletir__:\n",
        "\n",
        "* Plote o histograma dessa variável (com, por exemplo, `bins=25`). A forma do gráfico e o resultado do teste são condizentes? Por que?\n",
        "* Um _box plot_ também poderia ajudar a entender a resposta."
      ]
    },
    {
      "cell_type": "code",
      "metadata": {
        "id": "65JLg3OSrWRK",
        "colab_type": "code",
        "colab": {
          "base_uri": "https://localhost:8080/",
          "height": 339
        },
        "outputId": "30f3e0fc-dc44-4314-d623-7b5561571e9e"
      },
      "source": [
        "fig, axes = plt.subplots(nrows=1, ncols=2, figsize=(20, 5), sharex=True)\n",
        "sns.distplot(weight_sample, ax=axes[0])\n",
        "sns.distplot(df.weight, ax=axes[1])\n",
        "fig.show()"
      ],
      "execution_count": null,
      "outputs": [
        {
          "output_type": "display_data",
          "data": {
            "image/png": "[encoded data removed]",
            "text/plain": [
              "<Figure size 1440x360 with 2 Axes>"
            ]
          },
          "metadata": {
            "tags": []
          }
        }
      ]
    },
    {
      "cell_type": "markdown",
      "metadata": {
        "id": "jnqZwRBskgNC",
        "colab_type": "text"
      },
      "source": [
        "## Questão 4\n",
        "\n",
        "Realize uma transformação logarítmica em na amostra de `weight` da questão 3 e repita o mesmo procedimento. Podemos afirmar a normalidade da variável transformada ao nível de significância de 5%? Responda com um boolean (`True` ou `False`).\n",
        "\n",
        "> Expected: False"
      ]
    },
    {
      "cell_type": "code",
      "metadata": {
        "id": "7uFJw8D6kgND",
        "colab_type": "code",
        "colab": {
          "base_uri": "https://localhost:8080/",
          "height": 121
        },
        "outputId": "40192435-d798-4944-c3e5-4b4fc8f79258"
      },
      "source": [
        "weight_sample_log = np.log(weight_sample)\n",
        "weight_sample.head()"
      ],
      "execution_count": 14,
      "outputs": [
        {
          "output_type": "execute_result",
          "data": {
            "text/plain": [
              "2162    80.0\n",
              "3450    70.0\n",
              "6886    69.0\n",
              "3871    66.0\n",
              "6383    82.0\n",
              "Name: weight, dtype: float64"
            ]
          },
          "metadata": {
            "tags": []
          },
          "execution_count": 14
        }
      ]
    },
    {
      "cell_type": "code",
      "metadata": {
        "id": "yrjDeeNlXJj6",
        "colab_type": "code",
        "colab": {
          "base_uri": "https://localhost:8080/",
          "height": 34
        },
        "outputId": "2bf79ffe-b351-46f9-db24-e3cc0431ee79"
      },
      "source": [
        "_, p_value = sct.normaltest(weight_sample_log)\n",
        "p_value"
      ],
      "execution_count": 15,
      "outputs": [
        {
          "output_type": "execute_result",
          "data": {
            "text/plain": [
              "1.0705572101256944e-10"
            ]
          },
          "metadata": {
            "tags": []
          },
          "execution_count": 15
        }
      ]
    },
    {
      "cell_type": "code",
      "metadata": {
        "id": "Hy2kpxYlXio-",
        "colab_type": "code",
        "colab": {
          "base_uri": "https://localhost:8080/",
          "height": 34
        },
        "outputId": "742a597e-b515-468e-e3ef-9d157c99acb1"
      },
      "source": [
        "significance_level = 0.05 # 5%\n",
        "p_value > significance_level"
      ],
      "execution_count": 16,
      "outputs": [
        {
          "output_type": "execute_result",
          "data": {
            "text/plain": [
              "False"
            ]
          },
          "metadata": {
            "tags": []
          },
          "execution_count": 16
        }
      ]
    },
    {
      "cell_type": "markdown",
      "metadata": {
        "id": "lUbBmmU3kgNI",
        "colab_type": "text"
      },
      "source": [
        "__Para refletir__:\n",
        "\n",
        "* Plote o histograma dessa variável (com, por exemplo, `bins=25`). A forma do gráfico e o resultado do teste são condizentes? Por que?\n"
      ]
    },
    {
      "cell_type": "code",
      "metadata": {
        "id": "kG98LIQSX5Tr",
        "colab_type": "code",
        "colab": {
          "base_uri": "https://localhost:8080/",
          "height": 519
        },
        "outputId": "556286a9-ae17-46f7-b62f-04bc934ff93f"
      },
      "source": [
        "sns.distplot(weight_sample_log)"
      ],
      "execution_count": 17,
      "outputs": [
        {
          "output_type": "execute_result",
          "data": {
            "text/plain": [
              "<matplotlib.axes._subplots.AxesSubplot at 0x7f3461c066d8>"
            ]
          },
          "metadata": {
            "tags": []
          },
          "execution_count": 17
        },
        {
          "output_type": "display_data",
          "data": {
            "image/png": "[encoded data removed]",
            "text/plain": [
              "<Figure size 864x576 with 1 Axes>"
            ]
          },
          "metadata": {
            "tags": []
          }
        }
      ]
    },
    {
      "cell_type": "code",
      "metadata": {
        "id": "X9J5olS5YcOv",
        "colab_type": "code",
        "colab": {
          "base_uri": "https://localhost:8080/",
          "height": 987
        },
        "outputId": "82d95811-80a0-42d2-a8ad-5da5e3798b3e"
      },
      "source": [
        "sm.qqplot(weight_sample_log, line='45', fit=True)"
      ],
      "execution_count": 18,
      "outputs": [
        {
          "output_type": "execute_result",
          "data": {
            "image/png": "[encoded data removed]",
            "text/plain": [
              "<Figure size 864x576 with 1 Axes>"
            ]
          },
          "metadata": {
            "tags": []
          },
          "execution_count": 18
        },
        {
          "output_type": "display_data",
          "data": {
            "image/png": "[encoded data removed]",
            "text/plain": [
              "<Figure size 864x576 with 1 Axes>"
            ]
          },
          "metadata": {
            "tags": []
          }
        }
      ]
    },
    {
      "cell_type": "markdown",
      "metadata": {
        "id": "88_Yi5gFXyOr",
        "colab_type": "text"
      },
      "source": [
        "* Você esperava um resultado diferente agora?"
      ]
    },
    {
      "cell_type": "markdown",
      "metadata": {
        "id": "9tK-Em3HkgNJ",
        "colab_type": "text"
      },
      "source": [
        "> __Para as questão 5 6 e 7 a seguir considere todos testes efetuados ao nível de significância de 5%__."
      ]
    },
    {
      "cell_type": "markdown",
      "metadata": {
        "id": "bjedmJF7kgNK",
        "colab_type": "text"
      },
      "source": [
        "## Questão 5\n",
        "\n",
        "Obtenha todos atletas brasileiros, norte-americanos e canadenses em `DataFrame`s chamados `bra`, `usa` e `can`,respectivamente. Realize um teste de hipóteses para comparação das médias das alturas (`height`) para amostras independentes e variâncias diferentes com a função `scipy.stats.ttest_ind()` entre `bra` e `usa`. Podemos afirmar que as médias são estatisticamente iguais? Responda com um boolean (`True` ou `False`).\n",
        "\n",
        "> Expected: False"
      ]
    },
    {
      "cell_type": "code",
      "metadata": {
        "id": "s82Ila9ckgNM",
        "colab_type": "code",
        "colab": {
          "base_uri": "https://localhost:8080/",
          "height": 206
        },
        "outputId": "868efd31-7c5f-4544-e0e8-c99d4e6da64c"
      },
      "source": [
        "athletes_bra = athletes[athletes.nationality == 'BRA']\n",
        "athletes_bra.head()"
      ],
      "execution_count": 19,
      "outputs": [
        {
          "output_type": "execute_result",
          "data": {
            "text/html": [
              "<div>\n",
              "<style scoped>\n",
              "    .dataframe tbody tr th:only-of-type {\n",
              "        vertical-align: middle;\n",
              "    }\n",
              "\n",
              "    .dataframe tbody tr th {\n",
              "        vertical-align: top;\n",
              "    }\n",
              "\n",
              "    .dataframe thead th {\n",
              "        text-align: right;\n",
              "    }\n",
              "</style>\n",
              "<table border=\"1\" class=\"dataframe\">\n",
              "  <thead>\n",
              "    <tr style=\"text-align: right;\">\n",
              "      <th></th>\n",
              "      <th>id</th>\n",
              "      <th>name</th>\n",
              "      <th>nationality</th>\n",
              "      <th>sex</th>\n",
              "      <th>dob</th>\n",
              "      <th>height</th>\n",
              "      <th>weight</th>\n",
              "      <th>sport</th>\n",
              "      <th>gold</th>\n",
              "      <th>silver</th>\n",
              "      <th>bronze</th>\n",
              "    </tr>\n",
              "  </thead>\n",
              "  <tbody>\n",
              "    <tr>\n",
              "      <th>79</th>\n",
              "      <td>236523132</td>\n",
              "      <td>Adam Imer</td>\n",
              "      <td>BRA</td>\n",
              "      <td>male</td>\n",
              "      <td>8/18/89</td>\n",
              "      <td>1.82</td>\n",
              "      <td>88.0</td>\n",
              "      <td>hockey</td>\n",
              "      <td>0</td>\n",
              "      <td>0</td>\n",
              "      <td>0</td>\n",
              "    </tr>\n",
              "    <tr>\n",
              "      <th>106</th>\n",
              "      <td>993710181</td>\n",
              "      <td>Adenizia da Silva</td>\n",
              "      <td>BRA</td>\n",
              "      <td>female</td>\n",
              "      <td>12/18/86</td>\n",
              "      <td>1.87</td>\n",
              "      <td>65.0</td>\n",
              "      <td>volleyball</td>\n",
              "      <td>0</td>\n",
              "      <td>0</td>\n",
              "      <td>0</td>\n",
              "    </tr>\n",
              "    <tr>\n",
              "      <th>109</th>\n",
              "      <td>930618704</td>\n",
              "      <td>Adilson da Silva</td>\n",
              "      <td>BRA</td>\n",
              "      <td>male</td>\n",
              "      <td>1/24/72</td>\n",
              "      <td>1.70</td>\n",
              "      <td>79.0</td>\n",
              "      <td>golf</td>\n",
              "      <td>0</td>\n",
              "      <td>0</td>\n",
              "      <td>0</td>\n",
              "    </tr>\n",
              "    <tr>\n",
              "      <th>114</th>\n",
              "      <td>787208883</td>\n",
              "      <td>Adrian Baches</td>\n",
              "      <td>BRA</td>\n",
              "      <td>male</td>\n",
              "      <td>4/7/90</td>\n",
              "      <td>1.84</td>\n",
              "      <td>83.0</td>\n",
              "      <td>aquatics</td>\n",
              "      <td>0</td>\n",
              "      <td>0</td>\n",
              "      <td>0</td>\n",
              "    </tr>\n",
              "    <tr>\n",
              "      <th>128</th>\n",
              "      <td>80367651</td>\n",
              "      <td>Adriana Aparecida da Silva</td>\n",
              "      <td>BRA</td>\n",
              "      <td>female</td>\n",
              "      <td>7/22/81</td>\n",
              "      <td>1.66</td>\n",
              "      <td>52.0</td>\n",
              "      <td>athletics</td>\n",
              "      <td>0</td>\n",
              "      <td>0</td>\n",
              "      <td>0</td>\n",
              "    </tr>\n",
              "  </tbody>\n",
              "</table>\n",
              "</div>"
            ],
            "text/plain": [
              "            id                        name nationality  ... gold silver  bronze\n",
              "79   236523132                   Adam Imer         BRA  ...    0      0       0\n",
              "106  993710181           Adenizia da Silva         BRA  ...    0      0       0\n",
              "109  930618704            Adilson da Silva         BRA  ...    0      0       0\n",
              "114  787208883               Adrian Baches         BRA  ...    0      0       0\n",
              "128   80367651  Adriana Aparecida da Silva         BRA  ...    0      0       0\n",
              "\n",
              "[5 rows x 11 columns]"
            ]
          },
          "metadata": {
            "tags": []
          },
          "execution_count": 19
        }
      ]
    },
    {
      "cell_type": "code",
      "metadata": {
        "id": "BATQHYuVad3s",
        "colab_type": "code",
        "colab": {
          "base_uri": "https://localhost:8080/",
          "height": 206
        },
        "outputId": "98daed80-65c3-4cc6-c786-f5ca4ab98260"
      },
      "source": [
        "athletes_usa = athletes[athletes.nationality == 'USA']\n",
        "athletes_usa.head()"
      ],
      "execution_count": 20,
      "outputs": [
        {
          "output_type": "execute_result",
          "data": {
            "text/html": [
              "<div>\n",
              "<style scoped>\n",
              "    .dataframe tbody tr th:only-of-type {\n",
              "        vertical-align: middle;\n",
              "    }\n",
              "\n",
              "    .dataframe tbody tr th {\n",
              "        vertical-align: top;\n",
              "    }\n",
              "\n",
              "    .dataframe thead th {\n",
              "        text-align: right;\n",
              "    }\n",
              "</style>\n",
              "<table border=\"1\" class=\"dataframe\">\n",
              "  <thead>\n",
              "    <tr style=\"text-align: right;\">\n",
              "      <th></th>\n",
              "      <th>id</th>\n",
              "      <th>name</th>\n",
              "      <th>nationality</th>\n",
              "      <th>sex</th>\n",
              "      <th>dob</th>\n",
              "      <th>height</th>\n",
              "      <th>weight</th>\n",
              "      <th>sport</th>\n",
              "      <th>gold</th>\n",
              "      <th>silver</th>\n",
              "      <th>bronze</th>\n",
              "    </tr>\n",
              "  </thead>\n",
              "  <tbody>\n",
              "    <tr>\n",
              "      <th>6</th>\n",
              "      <td>266237702</td>\n",
              "      <td>Aaron Russell</td>\n",
              "      <td>USA</td>\n",
              "      <td>male</td>\n",
              "      <td>6/4/93</td>\n",
              "      <td>2.05</td>\n",
              "      <td>98.0</td>\n",
              "      <td>volleyball</td>\n",
              "      <td>0</td>\n",
              "      <td>0</td>\n",
              "      <td>1</td>\n",
              "    </tr>\n",
              "    <tr>\n",
              "      <th>13</th>\n",
              "      <td>376068084</td>\n",
              "      <td>Abbey D'Agostino</td>\n",
              "      <td>USA</td>\n",
              "      <td>female</td>\n",
              "      <td>5/25/92</td>\n",
              "      <td>1.61</td>\n",
              "      <td>49.0</td>\n",
              "      <td>athletics</td>\n",
              "      <td>0</td>\n",
              "      <td>0</td>\n",
              "      <td>0</td>\n",
              "    </tr>\n",
              "    <tr>\n",
              "      <th>14</th>\n",
              "      <td>162792594</td>\n",
              "      <td>Abbey Weitzeil</td>\n",
              "      <td>USA</td>\n",
              "      <td>female</td>\n",
              "      <td>12/3/96</td>\n",
              "      <td>1.78</td>\n",
              "      <td>68.0</td>\n",
              "      <td>aquatics</td>\n",
              "      <td>1</td>\n",
              "      <td>1</td>\n",
              "      <td>0</td>\n",
              "    </tr>\n",
              "    <tr>\n",
              "      <th>64</th>\n",
              "      <td>884912136</td>\n",
              "      <td>Abigail Johnston</td>\n",
              "      <td>USA</td>\n",
              "      <td>female</td>\n",
              "      <td>11/16/89</td>\n",
              "      <td>1.66</td>\n",
              "      <td>61.0</td>\n",
              "      <td>aquatics</td>\n",
              "      <td>0</td>\n",
              "      <td>0</td>\n",
              "      <td>0</td>\n",
              "    </tr>\n",
              "    <tr>\n",
              "      <th>104</th>\n",
              "      <td>259002430</td>\n",
              "      <td>Adeline Maria Gray</td>\n",
              "      <td>USA</td>\n",
              "      <td>female</td>\n",
              "      <td>1/15/91</td>\n",
              "      <td>1.73</td>\n",
              "      <td>77.0</td>\n",
              "      <td>wrestling</td>\n",
              "      <td>0</td>\n",
              "      <td>0</td>\n",
              "      <td>0</td>\n",
              "    </tr>\n",
              "  </tbody>\n",
              "</table>\n",
              "</div>"
            ],
            "text/plain": [
              "            id                name nationality  ... gold silver  bronze\n",
              "6    266237702       Aaron Russell         USA  ...    0      0       1\n",
              "13   376068084    Abbey D'Agostino         USA  ...    0      0       0\n",
              "14   162792594      Abbey Weitzeil         USA  ...    1      1       0\n",
              "64   884912136    Abigail Johnston         USA  ...    0      0       0\n",
              "104  259002430  Adeline Maria Gray         USA  ...    0      0       0\n",
              "\n",
              "[5 rows x 11 columns]"
            ]
          },
          "metadata": {
            "tags": []
          },
          "execution_count": 20
        }
      ]
    },
    {
      "cell_type": "code",
      "metadata": {
        "id": "k0ccpTXJakSd",
        "colab_type": "code",
        "colab": {
          "base_uri": "https://localhost:8080/",
          "height": 206
        },
        "outputId": "521dd724-1951-4ae4-8b77-6790e3e2c0b5"
      },
      "source": [
        "athletes_can = athletes[athletes.nationality == 'CAN']\n",
        "athletes_can.head()"
      ],
      "execution_count": 21,
      "outputs": [
        {
          "output_type": "execute_result",
          "data": {
            "text/html": [
              "<div>\n",
              "<style scoped>\n",
              "    .dataframe tbody tr th:only-of-type {\n",
              "        vertical-align: middle;\n",
              "    }\n",
              "\n",
              "    .dataframe tbody tr th {\n",
              "        vertical-align: top;\n",
              "    }\n",
              "\n",
              "    .dataframe thead th {\n",
              "        text-align: right;\n",
              "    }\n",
              "</style>\n",
              "<table border=\"1\" class=\"dataframe\">\n",
              "  <thead>\n",
              "    <tr style=\"text-align: right;\">\n",
              "      <th></th>\n",
              "      <th>id</th>\n",
              "      <th>name</th>\n",
              "      <th>nationality</th>\n",
              "      <th>sex</th>\n",
              "      <th>dob</th>\n",
              "      <th>height</th>\n",
              "      <th>weight</th>\n",
              "      <th>sport</th>\n",
              "      <th>gold</th>\n",
              "      <th>silver</th>\n",
              "      <th>bronze</th>\n",
              "    </tr>\n",
              "  </thead>\n",
              "  <tbody>\n",
              "    <tr>\n",
              "      <th>2</th>\n",
              "      <td>435962603</td>\n",
              "      <td>Aaron Brown</td>\n",
              "      <td>CAN</td>\n",
              "      <td>male</td>\n",
              "      <td>5/27/92</td>\n",
              "      <td>1.98</td>\n",
              "      <td>79.0</td>\n",
              "      <td>athletics</td>\n",
              "      <td>0</td>\n",
              "      <td>0</td>\n",
              "      <td>1</td>\n",
              "    </tr>\n",
              "    <tr>\n",
              "      <th>77</th>\n",
              "      <td>136977152</td>\n",
              "      <td>Adam Froese</td>\n",
              "      <td>CAN</td>\n",
              "      <td>male</td>\n",
              "      <td>8/13/91</td>\n",
              "      <td>1.82</td>\n",
              "      <td>81.0</td>\n",
              "      <td>hockey</td>\n",
              "      <td>0</td>\n",
              "      <td>0</td>\n",
              "      <td>0</td>\n",
              "    </tr>\n",
              "    <tr>\n",
              "      <th>92</th>\n",
              "      <td>983411298</td>\n",
              "      <td>Adam van Koeverden</td>\n",
              "      <td>CAN</td>\n",
              "      <td>male</td>\n",
              "      <td>1/29/82</td>\n",
              "      <td>1.82</td>\n",
              "      <td>85.0</td>\n",
              "      <td>canoe</td>\n",
              "      <td>0</td>\n",
              "      <td>0</td>\n",
              "      <td>0</td>\n",
              "    </tr>\n",
              "    <tr>\n",
              "      <th>238</th>\n",
              "      <td>769580282</td>\n",
              "      <td>Akeem Haynes</td>\n",
              "      <td>CAN</td>\n",
              "      <td>male</td>\n",
              "      <td>3/11/92</td>\n",
              "      <td>1.68</td>\n",
              "      <td>71.0</td>\n",
              "      <td>athletics</td>\n",
              "      <td>0</td>\n",
              "      <td>0</td>\n",
              "      <td>1</td>\n",
              "    </tr>\n",
              "    <tr>\n",
              "      <th>332</th>\n",
              "      <td>84230211</td>\n",
              "      <td>Alena Sharp</td>\n",
              "      <td>CAN</td>\n",
              "      <td>female</td>\n",
              "      <td>3/7/81</td>\n",
              "      <td>1.68</td>\n",
              "      <td>69.0</td>\n",
              "      <td>golf</td>\n",
              "      <td>0</td>\n",
              "      <td>0</td>\n",
              "      <td>0</td>\n",
              "    </tr>\n",
              "  </tbody>\n",
              "</table>\n",
              "</div>"
            ],
            "text/plain": [
              "            id                name nationality  ... gold silver  bronze\n",
              "2    435962603         Aaron Brown         CAN  ...    0      0       1\n",
              "77   136977152         Adam Froese         CAN  ...    0      0       0\n",
              "92   983411298  Adam van Koeverden         CAN  ...    0      0       0\n",
              "238  769580282        Akeem Haynes         CAN  ...    0      0       1\n",
              "332   84230211         Alena Sharp         CAN  ...    0      0       0\n",
              "\n",
              "[5 rows x 11 columns]"
            ]
          },
          "metadata": {
            "tags": []
          },
          "execution_count": 21
        }
      ]
    },
    {
      "cell_type": "code",
      "metadata": {
        "id": "qOuR_VKMbwG2",
        "colab_type": "code",
        "colab": {
          "base_uri": "https://localhost:8080/",
          "height": 225
        },
        "outputId": "0fdcfef6-55ca-41ed-a615-5006a882ba14"
      },
      "source": [
        "athletes_bra.height"
      ],
      "execution_count": 22,
      "outputs": [
        {
          "output_type": "execute_result",
          "data": {
            "text/plain": [
              "79       1.82\n",
              "106      1.87\n",
              "109      1.70\n",
              "114      1.84\n",
              "128      1.66\n",
              "         ... \n",
              "11052    1.78\n",
              "11136    1.66\n",
              "11228    1.83\n",
              "11404    1.78\n",
              "11457    1.70\n",
              "Name: height, Length: 485, dtype: float64"
            ]
          },
          "metadata": {
            "tags": []
          },
          "execution_count": 22
        }
      ]
    },
    {
      "cell_type": "code",
      "metadata": {
        "id": "zaFTvEivcLlq",
        "colab_type": "code",
        "colab": {
          "base_uri": "https://localhost:8080/",
          "height": 225
        },
        "outputId": "d12b8344-89e0-417c-a7a7-4b9ecd607084"
      },
      "source": [
        "athletes_usa.height"
      ],
      "execution_count": 23,
      "outputs": [
        {
          "output_type": "execute_result",
          "data": {
            "text/plain": [
              "6        2.05\n",
              "13       1.61\n",
              "14       1.78\n",
              "64       1.66\n",
              "104      1.73\n",
              "         ... \n",
              "11242    1.86\n",
              "11339    1.61\n",
              "11436    1.78\n",
              "11437    1.94\n",
              "11439    1.91\n",
              "Name: height, Length: 567, dtype: float64"
            ]
          },
          "metadata": {
            "tags": []
          },
          "execution_count": 23
        }
      ]
    },
    {
      "cell_type": "code",
      "metadata": {
        "id": "t3o_P-BUcVhO",
        "colab_type": "code",
        "colab": {
          "base_uri": "https://localhost:8080/",
          "height": 34
        },
        "outputId": "f6c24586-8bdb-490a-de9f-732ae0bfe081"
      },
      "source": [
        "_, p_value = sct.ttest_ind(athletes_bra.height, athletes_usa.height,\n",
        "                           nan_policy='omit')\n",
        "p_value"
      ],
      "execution_count": 31,
      "outputs": [
        {
          "output_type": "execute_result",
          "data": {
            "text/plain": [
              "0.0013229277795920673"
            ]
          },
          "metadata": {
            "tags": []
          },
          "execution_count": 31
        }
      ]
    },
    {
      "cell_type": "code",
      "metadata": {
        "id": "p_DXJHwbc5OA",
        "colab_type": "code",
        "colab": {
          "base_uri": "https://localhost:8080/",
          "height": 34
        },
        "outputId": "5be93a5a-33ec-4494-fe87-dc705d2a03b1"
      },
      "source": [
        "significance_level = 0.05 # 5%\n",
        "p_value > significance_level"
      ],
      "execution_count": 32,
      "outputs": [
        {
          "output_type": "execute_result",
          "data": {
            "text/plain": [
              "False"
            ]
          },
          "metadata": {
            "tags": []
          },
          "execution_count": 32
        }
      ]
    },
    {
      "cell_type": "markdown",
      "metadata": {
        "id": "6Erve3lbkgNS",
        "colab_type": "text"
      },
      "source": [
        "## Questão 6\n",
        "\n",
        "Repita o procedimento da questão 5, mas agora entre as alturas de `bra` e `can`. Podemos afimar agora que as médias são estatisticamente iguais? Reponda com um boolean (`True` ou `False`).\n",
        "\n",
        "> Expected: True"
      ]
    },
    {
      "cell_type": "code",
      "metadata": {
        "id": "-d5e58p0kgNT",
        "colab_type": "code",
        "colab": {
          "base_uri": "https://localhost:8080/",
          "height": 34
        },
        "outputId": "e171dee8-5a88-4b7c-d501-484d075888e8"
      },
      "source": [
        "_, p_value = sct.ttest_ind(athletes_bra.height, athletes_can.height,\n",
        "                           nan_policy='omit')\n",
        "p_value"
      ],
      "execution_count": 29,
      "outputs": [
        {
          "output_type": "execute_result",
          "data": {
            "text/plain": [
              "0.5226033826111448"
            ]
          },
          "metadata": {
            "tags": []
          },
          "execution_count": 29
        }
      ]
    },
    {
      "cell_type": "code",
      "metadata": {
        "id": "QD_imMtbeL9s",
        "colab_type": "code",
        "colab": {
          "base_uri": "https://localhost:8080/",
          "height": 34
        },
        "outputId": "4c7e92ac-a840-4322-9b16-d10b2f94025c"
      },
      "source": [
        "significance_level = 0.05 # 5%\n",
        "p_value > significance_level"
      ],
      "execution_count": 30,
      "outputs": [
        {
          "output_type": "execute_result",
          "data": {
            "text/plain": [
              "True"
            ]
          },
          "metadata": {
            "tags": []
          },
          "execution_count": 30
        }
      ]
    },
    {
      "cell_type": "markdown",
      "metadata": {
        "id": "InBJhtnDkgNY",
        "colab_type": "text"
      },
      "source": [
        "## Questão 7\n",
        "\n",
        "Repita o procedimento da questão 6, mas agora entre as alturas de `usa` e `can`. Qual o valor do p-valor retornado? Responda como um único escalar arredondado para oito casas decimais.\n",
        "\n",
        "> Expected: 0.00046601"
      ]
    },
    {
      "cell_type": "code",
      "metadata": {
        "id": "rqmyeunAkgNZ",
        "colab_type": "code",
        "colab": {
          "base_uri": "https://localhost:8080/",
          "height": 34
        },
        "outputId": "fdf46042-9156-4b6a-8241-8a91da7c11a9"
      },
      "source": [
        "_, p_value = sct.ttest_ind(athletes_usa.height, athletes_can.height,\n",
        "                           equal_var=False, nan_policy='omit')\n",
        "p_value"
      ],
      "execution_count": 35,
      "outputs": [
        {
          "output_type": "execute_result",
          "data": {
            "text/plain": [
              "0.0004660129347389851"
            ]
          },
          "metadata": {
            "tags": []
          },
          "execution_count": 35
        }
      ]
    },
    {
      "cell_type": "code",
      "metadata": {
        "id": "QLSPUsINeZPO",
        "colab_type": "code",
        "colab": {
          "base_uri": "https://localhost:8080/",
          "height": 34
        },
        "outputId": "39d769df-308b-4e0d-bab9-230ef714a19f"
      },
      "source": [
        "np.round(p_value, decimals=8)"
      ],
      "execution_count": 36,
      "outputs": [
        {
          "output_type": "execute_result",
          "data": {
            "text/plain": [
              "0.00046601"
            ]
          },
          "metadata": {
            "tags": []
          },
          "execution_count": 36
        }
      ]
    },
    {
      "cell_type": "markdown",
      "metadata": {
        "id": "QhWYwt8ZkgNe",
        "colab_type": "text"
      },
      "source": [
        "__Para refletir__:\n",
        "\n",
        "* O resultado faz sentido?\n",
        "* Você consegue interpretar esse p-valor?\n",
        "* Você consegue chegar a esse valor de p-valor a partir da variável de estatística?"
      ]
    }
  ]
}
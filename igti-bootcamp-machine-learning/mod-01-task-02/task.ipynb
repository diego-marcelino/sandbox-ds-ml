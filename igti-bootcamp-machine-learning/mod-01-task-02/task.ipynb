{
  "nbformat": 4,
  "nbformat_minor": 0,
  "metadata": {
    "colab": {
      "name": "task.ipynb",
      "provenance": [],
      "collapsed_sections": [
        "haFcUx4lFXZR",
        "KQNl-8_fFt9X",
        "ZLb9-cl-GP5-",
        "iC6Gs_sEGeIl",
        "KNV-36L_HKUS",
        "NP9Pf_OjHeD9",
        "_-eSJJCHI5Lc",
        "DV8ky2gdJIwu",
        "B96w9jsxJV3a",
        "NKBu-vniCVqD",
        "6Cz2X7QDD9oi",
        "xBaHGBUjEa0a"
      ]
    },
    "kernelspec": {
      "name": "python3",
      "display_name": "Python 3"
    }
  },
  "cells": [
    {
      "cell_type": "code",
      "metadata": {
        "id": "lw-Ch64OqINQ",
        "colab_type": "code",
        "colab": {
          "base_uri": "https://localhost:8080/",
          "height": 72
        },
        "outputId": "8e35ed11-aea8-41b5-a3a9-09a60f1b31ba"
      },
      "source": [
        "import pandas as pd\n",
        "import matplotlib.pyplot as plt\n",
        "import seaborn as sns\n",
        "\n",
        "from sklearn.linear_model import LinearRegression\n",
        "from sklearn.metrics import r2_score\n",
        "from sklearn.tree import DecisionTreeRegressor"
      ],
      "execution_count": 1,
      "outputs": [
        {
          "output_type": "stream",
          "text": [
            "/usr/local/lib/python3.6/dist-packages/statsmodels/tools/_testing.py:19: FutureWarning: pandas.util.testing is deprecated. Use the functions in the public API at pandas.testing instead.\n",
            "  import pandas.util.testing as tm\n"
          ],
          "name": "stderr"
        }
      ]
    },
    {
      "cell_type": "code",
      "metadata": {
        "id": "-li7kbnhqQBC",
        "colab_type": "code",
        "colab": {
          "base_uri": "https://localhost:8080/",
          "height": 206
        },
        "outputId": "47138d12-ee9f-4d7a-e3c1-3f95e65702af"
      },
      "source": [
        "DATA_URL = 'https://raw.githubusercontent.com/diego-marcelino/sandbox-ds-ml/master/igti-bootcamp-machine-learning/mod-01-task-02/data.csv'\n",
        "bike_sharing = pd.read_csv(DATA_URL)\n",
        "bike_sharing.head()"
      ],
      "execution_count": 2,
      "outputs": [
        {
          "output_type": "execute_result",
          "data": {
            "text/html": [
              "<div>\n",
              "<style scoped>\n",
              "    .dataframe tbody tr th:only-of-type {\n",
              "        vertical-align: middle;\n",
              "    }\n",
              "\n",
              "    .dataframe tbody tr th {\n",
              "        vertical-align: top;\n",
              "    }\n",
              "\n",
              "    .dataframe thead th {\n",
              "        text-align: right;\n",
              "    }\n",
              "</style>\n",
              "<table border=\"1\" class=\"dataframe\">\n",
              "  <thead>\n",
              "    <tr style=\"text-align: right;\">\n",
              "      <th></th>\n",
              "      <th>instant</th>\n",
              "      <th>dteday</th>\n",
              "      <th>season</th>\n",
              "      <th>yr</th>\n",
              "      <th>mnth</th>\n",
              "      <th>hr</th>\n",
              "      <th>holiday</th>\n",
              "      <th>weekday</th>\n",
              "      <th>workingday</th>\n",
              "      <th>weathersit</th>\n",
              "      <th>temp</th>\n",
              "      <th>atemp</th>\n",
              "      <th>hum</th>\n",
              "      <th>windspeed</th>\n",
              "      <th>casual</th>\n",
              "      <th>registered</th>\n",
              "      <th>cnt</th>\n",
              "    </tr>\n",
              "  </thead>\n",
              "  <tbody>\n",
              "    <tr>\n",
              "      <th>0</th>\n",
              "      <td>1.0</td>\n",
              "      <td>NaN</td>\n",
              "      <td>1.0</td>\n",
              "      <td>0.0</td>\n",
              "      <td>1.0</td>\n",
              "      <td>0.0</td>\n",
              "      <td>0.0</td>\n",
              "      <td>6.0</td>\n",
              "      <td>0.0</td>\n",
              "      <td>1.0</td>\n",
              "      <td>NaN</td>\n",
              "      <td>0.2879</td>\n",
              "      <td>0.81</td>\n",
              "      <td>0.0</td>\n",
              "      <td>3.0</td>\n",
              "      <td>13.0</td>\n",
              "      <td>16.0</td>\n",
              "    </tr>\n",
              "    <tr>\n",
              "      <th>1</th>\n",
              "      <td>2.0</td>\n",
              "      <td>2011-01-01</td>\n",
              "      <td>1.0</td>\n",
              "      <td>0.0</td>\n",
              "      <td>1.0</td>\n",
              "      <td>1.0</td>\n",
              "      <td>0.0</td>\n",
              "      <td>6.0</td>\n",
              "      <td>0.0</td>\n",
              "      <td>NaN</td>\n",
              "      <td>0.22</td>\n",
              "      <td>0.2727</td>\n",
              "      <td>0.80</td>\n",
              "      <td>0.0</td>\n",
              "      <td>8.0</td>\n",
              "      <td>32.0</td>\n",
              "      <td>40.0</td>\n",
              "    </tr>\n",
              "    <tr>\n",
              "      <th>2</th>\n",
              "      <td>3.0</td>\n",
              "      <td>2011-01-01</td>\n",
              "      <td>1.0</td>\n",
              "      <td>0.0</td>\n",
              "      <td>1.0</td>\n",
              "      <td>2.0</td>\n",
              "      <td>0.0</td>\n",
              "      <td>6.0</td>\n",
              "      <td>0.0</td>\n",
              "      <td>1.0</td>\n",
              "      <td>0.22</td>\n",
              "      <td>0.2727</td>\n",
              "      <td>0.80</td>\n",
              "      <td>0.0</td>\n",
              "      <td>5.0</td>\n",
              "      <td>27.0</td>\n",
              "      <td>32.0</td>\n",
              "    </tr>\n",
              "    <tr>\n",
              "      <th>3</th>\n",
              "      <td>4.0</td>\n",
              "      <td>2011-01-01</td>\n",
              "      <td>1.0</td>\n",
              "      <td>0.0</td>\n",
              "      <td>1.0</td>\n",
              "      <td>3.0</td>\n",
              "      <td>0.0</td>\n",
              "      <td>6.0</td>\n",
              "      <td>0.0</td>\n",
              "      <td>1.0</td>\n",
              "      <td>0.24</td>\n",
              "      <td>0.2879</td>\n",
              "      <td>0.75</td>\n",
              "      <td>0.0</td>\n",
              "      <td>3.0</td>\n",
              "      <td>10.0</td>\n",
              "      <td>13.0</td>\n",
              "    </tr>\n",
              "    <tr>\n",
              "      <th>4</th>\n",
              "      <td>5.0</td>\n",
              "      <td>2011-01-01</td>\n",
              "      <td>1.0</td>\n",
              "      <td>0.0</td>\n",
              "      <td>1.0</td>\n",
              "      <td>4.0</td>\n",
              "      <td>0.0</td>\n",
              "      <td>6.0</td>\n",
              "      <td>NaN</td>\n",
              "      <td>1.0</td>\n",
              "      <td>0.24</td>\n",
              "      <td>0.2879</td>\n",
              "      <td>0.75</td>\n",
              "      <td>0.0</td>\n",
              "      <td>0.0</td>\n",
              "      <td>1.0</td>\n",
              "      <td>1.0</td>\n",
              "    </tr>\n",
              "  </tbody>\n",
              "</table>\n",
              "</div>"
            ],
            "text/plain": [
              "   instant      dteday  season   yr  ...  windspeed  casual  registered   cnt\n",
              "0      1.0         NaN     1.0  0.0  ...        0.0     3.0        13.0  16.0\n",
              "1      2.0  2011-01-01     1.0  0.0  ...        0.0     8.0        32.0  40.0\n",
              "2      3.0  2011-01-01     1.0  0.0  ...        0.0     5.0        27.0  32.0\n",
              "3      4.0  2011-01-01     1.0  0.0  ...        0.0     3.0        10.0  13.0\n",
              "4      5.0  2011-01-01     1.0  0.0  ...        0.0     0.0         1.0   1.0\n",
              "\n",
              "[5 rows x 17 columns]"
            ]
          },
          "metadata": {
            "tags": []
          },
          "execution_count": 2
        }
      ]
    },
    {
      "cell_type": "code",
      "metadata": {
        "id": "CruR4uK-q0CB",
        "colab_type": "code",
        "colab": {
          "base_uri": "https://localhost:8080/",
          "height": 320
        },
        "outputId": "172549a0-3033-489a-c92e-8370ed02c7bc"
      },
      "source": [
        "bike_sharing.describe()"
      ],
      "execution_count": 3,
      "outputs": [
        {
          "output_type": "execute_result",
          "data": {
            "text/html": [
              "<div>\n",
              "<style scoped>\n",
              "    .dataframe tbody tr th:only-of-type {\n",
              "        vertical-align: middle;\n",
              "    }\n",
              "\n",
              "    .dataframe tbody tr th {\n",
              "        vertical-align: top;\n",
              "    }\n",
              "\n",
              "    .dataframe thead th {\n",
              "        text-align: right;\n",
              "    }\n",
              "</style>\n",
              "<table border=\"1\" class=\"dataframe\">\n",
              "  <thead>\n",
              "    <tr style=\"text-align: right;\">\n",
              "      <th></th>\n",
              "      <th>instant</th>\n",
              "      <th>season</th>\n",
              "      <th>yr</th>\n",
              "      <th>mnth</th>\n",
              "      <th>hr</th>\n",
              "      <th>holiday</th>\n",
              "      <th>weekday</th>\n",
              "      <th>workingday</th>\n",
              "      <th>weathersit</th>\n",
              "      <th>temp</th>\n",
              "      <th>atemp</th>\n",
              "      <th>hum</th>\n",
              "      <th>windspeed</th>\n",
              "      <th>casual</th>\n",
              "      <th>registered</th>\n",
              "      <th>cnt</th>\n",
              "    </tr>\n",
              "  </thead>\n",
              "  <tbody>\n",
              "    <tr>\n",
              "      <th>count</th>\n",
              "      <td>15641.000000</td>\n",
              "      <td>15641.000000</td>\n",
              "      <td>15641.000000</td>\n",
              "      <td>15641.000000</td>\n",
              "      <td>15641.000000</td>\n",
              "      <td>15641.000000</td>\n",
              "      <td>15641.000000</td>\n",
              "      <td>15641.000000</td>\n",
              "      <td>15641.000000</td>\n",
              "      <td>15641.000000</td>\n",
              "      <td>15641.000000</td>\n",
              "      <td>15641.000000</td>\n",
              "      <td>15641.000000</td>\n",
              "      <td>15641.000000</td>\n",
              "      <td>15641.000000</td>\n",
              "      <td>15641.000000</td>\n",
              "    </tr>\n",
              "    <tr>\n",
              "      <th>mean</th>\n",
              "      <td>8676.513842</td>\n",
              "      <td>2.503420</td>\n",
              "      <td>0.501758</td>\n",
              "      <td>6.536091</td>\n",
              "      <td>11.521258</td>\n",
              "      <td>0.028131</td>\n",
              "      <td>2.999233</td>\n",
              "      <td>0.682118</td>\n",
              "      <td>1.423950</td>\n",
              "      <td>0.497062</td>\n",
              "      <td>0.476281</td>\n",
              "      <td>0.627579</td>\n",
              "      <td>0.189247</td>\n",
              "      <td>35.583147</td>\n",
              "      <td>153.644972</td>\n",
              "      <td>189.919826</td>\n",
              "    </tr>\n",
              "    <tr>\n",
              "      <th>std</th>\n",
              "      <td>5010.773755</td>\n",
              "      <td>1.107636</td>\n",
              "      <td>0.500013</td>\n",
              "      <td>3.441490</td>\n",
              "      <td>6.917606</td>\n",
              "      <td>0.165353</td>\n",
              "      <td>2.005300</td>\n",
              "      <td>0.465668</td>\n",
              "      <td>0.638982</td>\n",
              "      <td>0.192451</td>\n",
              "      <td>0.172520</td>\n",
              "      <td>0.192893</td>\n",
              "      <td>0.122188</td>\n",
              "      <td>49.226455</td>\n",
              "      <td>151.750573</td>\n",
              "      <td>181.972508</td>\n",
              "    </tr>\n",
              "    <tr>\n",
              "      <th>min</th>\n",
              "      <td>1.000000</td>\n",
              "      <td>1.000000</td>\n",
              "      <td>0.000000</td>\n",
              "      <td>1.000000</td>\n",
              "      <td>0.000000</td>\n",
              "      <td>0.000000</td>\n",
              "      <td>0.000000</td>\n",
              "      <td>0.000000</td>\n",
              "      <td>1.000000</td>\n",
              "      <td>0.020000</td>\n",
              "      <td>0.000000</td>\n",
              "      <td>0.000000</td>\n",
              "      <td>0.000000</td>\n",
              "      <td>0.000000</td>\n",
              "      <td>0.000000</td>\n",
              "      <td>1.000000</td>\n",
              "    </tr>\n",
              "    <tr>\n",
              "      <th>25%</th>\n",
              "      <td>4335.000000</td>\n",
              "      <td>2.000000</td>\n",
              "      <td>0.000000</td>\n",
              "      <td>4.000000</td>\n",
              "      <td>6.000000</td>\n",
              "      <td>0.000000</td>\n",
              "      <td>1.000000</td>\n",
              "      <td>0.000000</td>\n",
              "      <td>1.000000</td>\n",
              "      <td>0.340000</td>\n",
              "      <td>0.333300</td>\n",
              "      <td>0.480000</td>\n",
              "      <td>0.104500</td>\n",
              "      <td>4.000000</td>\n",
              "      <td>34.000000</td>\n",
              "      <td>40.000000</td>\n",
              "    </tr>\n",
              "    <tr>\n",
              "      <th>50%</th>\n",
              "      <td>8678.000000</td>\n",
              "      <td>3.000000</td>\n",
              "      <td>1.000000</td>\n",
              "      <td>7.000000</td>\n",
              "      <td>12.000000</td>\n",
              "      <td>0.000000</td>\n",
              "      <td>3.000000</td>\n",
              "      <td>1.000000</td>\n",
              "      <td>1.000000</td>\n",
              "      <td>0.500000</td>\n",
              "      <td>0.484800</td>\n",
              "      <td>0.630000</td>\n",
              "      <td>0.164200</td>\n",
              "      <td>17.000000</td>\n",
              "      <td>115.000000</td>\n",
              "      <td>142.000000</td>\n",
              "    </tr>\n",
              "    <tr>\n",
              "      <th>75%</th>\n",
              "      <td>13005.000000</td>\n",
              "      <td>3.000000</td>\n",
              "      <td>1.000000</td>\n",
              "      <td>10.000000</td>\n",
              "      <td>17.000000</td>\n",
              "      <td>0.000000</td>\n",
              "      <td>5.000000</td>\n",
              "      <td>1.000000</td>\n",
              "      <td>2.000000</td>\n",
              "      <td>0.660000</td>\n",
              "      <td>0.621200</td>\n",
              "      <td>0.780000</td>\n",
              "      <td>0.253700</td>\n",
              "      <td>48.000000</td>\n",
              "      <td>220.000000</td>\n",
              "      <td>281.000000</td>\n",
              "    </tr>\n",
              "    <tr>\n",
              "      <th>max</th>\n",
              "      <td>17377.000000</td>\n",
              "      <td>4.000000</td>\n",
              "      <td>1.000000</td>\n",
              "      <td>12.000000</td>\n",
              "      <td>23.000000</td>\n",
              "      <td>1.000000</td>\n",
              "      <td>6.000000</td>\n",
              "      <td>1.000000</td>\n",
              "      <td>4.000000</td>\n",
              "      <td>1.000000</td>\n",
              "      <td>1.000000</td>\n",
              "      <td>1.000000</td>\n",
              "      <td>0.850700</td>\n",
              "      <td>367.000000</td>\n",
              "      <td>886.000000</td>\n",
              "      <td>977.000000</td>\n",
              "    </tr>\n",
              "  </tbody>\n",
              "</table>\n",
              "</div>"
            ],
            "text/plain": [
              "            instant        season  ...    registered           cnt\n",
              "count  15641.000000  15641.000000  ...  15641.000000  15641.000000\n",
              "mean    8676.513842      2.503420  ...    153.644972    189.919826\n",
              "std     5010.773755      1.107636  ...    151.750573    181.972508\n",
              "min        1.000000      1.000000  ...      0.000000      1.000000\n",
              "25%     4335.000000      2.000000  ...     34.000000     40.000000\n",
              "50%     8678.000000      3.000000  ...    115.000000    142.000000\n",
              "75%    13005.000000      3.000000  ...    220.000000    281.000000\n",
              "max    17377.000000      4.000000  ...    886.000000    977.000000\n",
              "\n",
              "[8 rows x 16 columns]"
            ]
          },
          "metadata": {
            "tags": []
          },
          "execution_count": 3
        }
      ]
    },
    {
      "cell_type": "markdown",
      "metadata": {
        "id": "haFcUx4lFXZR",
        "colab_type": "text"
      },
      "source": [
        "### 1. No dataset utilizado para o desafio, quantas instâncias e atributos existem, respectivamente?\n",
        "- [ ] (15,1345)\n",
        "- [ ] (1345,15)\n",
        "- [x] (17379,17)\n",
        "- [ ] (17,17379)\n"
      ]
    },
    {
      "cell_type": "code",
      "metadata": {
        "id": "9dylIzJ-j-kh",
        "colab_type": "code",
        "colab": {
          "base_uri": "https://localhost:8080/",
          "height": 0
        },
        "outputId": "ee5ed235-e406-406a-df31-19cc8e891c98"
      },
      "source": [
        "bike_sharing.shape"
      ],
      "execution_count": 4,
      "outputs": [
        {
          "output_type": "execute_result",
          "data": {
            "text/plain": [
              "(17379, 17)"
            ]
          },
          "metadata": {
            "tags": []
          },
          "execution_count": 4
        }
      ]
    },
    {
      "cell_type": "markdown",
      "metadata": {
        "id": "KQNl-8_fFt9X",
        "colab_type": "text"
      },
      "source": [
        "### 2. Quantos tipos diferentes de dados existem no dataset do desafio?\n",
        "\n",
        "- [ ] 17\n",
        "- [ ] 3\n",
        "- [x] 2\n",
        "- [ ] 12\n"
      ]
    },
    {
      "cell_type": "code",
      "metadata": {
        "id": "q_SEPIrFkIQM",
        "colab_type": "code",
        "colab": {
          "base_uri": "https://localhost:8080/",
          "height": 0
        },
        "outputId": "0512b6a6-4c5f-4474-dd4a-b6f3c1e0f66b"
      },
      "source": [
        "bike_sharing.dtypes.value_counts()"
      ],
      "execution_count": 5,
      "outputs": [
        {
          "output_type": "execute_result",
          "data": {
            "text/plain": [
              "float64    16\n",
              "object      1\n",
              "dtype: int64"
            ]
          },
          "metadata": {
            "tags": []
          },
          "execution_count": 5
        }
      ]
    },
    {
      "cell_type": "markdown",
      "metadata": {
        "id": "ZLb9-cl-GP5-",
        "colab_type": "text"
      },
      "source": [
        "### 3. Qual é a proporção (em %) de valores nulos existente na coluna 'temp' (temperatura ambiente normalizada)?\n",
        "\n",
        "- [ ] 15%\n",
        "- [x] 10%\n",
        "- [ ] 0%\n",
        "- [ ] 5%\n"
      ]
    },
    {
      "cell_type": "code",
      "metadata": {
        "id": "cYQlHrl5mztN",
        "colab_type": "code",
        "colab": {
          "base_uri": "https://localhost:8080/",
          "height": 0
        },
        "outputId": "7244144e-e4e0-437c-d0ae-2e16a56cfd14"
      },
      "source": [
        "temp_na_count = bike_sharing.temp.isna().sum()\n",
        "temp_na_count"
      ],
      "execution_count": 6,
      "outputs": [
        {
          "output_type": "execute_result",
          "data": {
            "text/plain": [
              "1738"
            ]
          },
          "metadata": {
            "tags": []
          },
          "execution_count": 6
        }
      ]
    },
    {
      "cell_type": "code",
      "metadata": {
        "id": "1g7se2BqGzHU",
        "colab_type": "code",
        "colab": {
          "base_uri": "https://localhost:8080/",
          "height": 0
        },
        "outputId": "9c1dcb4f-d5cf-4004-de98-f89a6bbc8ab9"
      },
      "source": [
        "temp_total_count = bike_sharing.temp.size\n",
        "temp_total_count"
      ],
      "execution_count": 7,
      "outputs": [
        {
          "output_type": "execute_result",
          "data": {
            "text/plain": [
              "17379"
            ]
          },
          "metadata": {
            "tags": []
          },
          "execution_count": 7
        }
      ]
    },
    {
      "cell_type": "code",
      "metadata": {
        "id": "-xqockSFG4Zr",
        "colab_type": "code",
        "colab": {
          "base_uri": "https://localhost:8080/",
          "height": 0
        },
        "outputId": "d1cefec5-ae6a-46d5-cb53-0c2c07f64ad5"
      },
      "source": [
        "percentage = (temp_na_count / temp_total_count) * 100\n",
        "percentage"
      ],
      "execution_count": 8,
      "outputs": [
        {
          "output_type": "execute_result",
          "data": {
            "text/plain": [
              "10.000575407100524"
            ]
          },
          "metadata": {
            "tags": []
          },
          "execution_count": 8
        }
      ]
    },
    {
      "cell_type": "markdown",
      "metadata": {
        "id": "iC6Gs_sEGeIl",
        "colab_type": "text"
      },
      "source": [
        "### 4. Após retirar as linhas que contém valores nulos para a coluna 'dteday', passamos a contar com quantas instancias e atributos, respectivamente?\n",
        "- [x] (15641,17)\n",
        "- [ ] (17379,17)\n",
        "- [ ] (17,17379)\n",
        "- [ ] (17,15641)\n"
      ]
    },
    {
      "cell_type": "code",
      "metadata": {
        "id": "CnvmlJldoZ50",
        "colab_type": "code",
        "colab": {
          "base_uri": "https://localhost:8080/",
          "height": 0
        },
        "outputId": "3dc3dfd2-00ad-4ccf-b7f8-fce6ce89b87e"
      },
      "source": [
        "dteday_non_na = bike_sharing.dropna(subset=['dteday'])\n",
        "dteday_non_na.shape"
      ],
      "execution_count": 9,
      "outputs": [
        {
          "output_type": "execute_result",
          "data": {
            "text/plain": [
              "(15641, 17)"
            ]
          },
          "metadata": {
            "tags": []
          },
          "execution_count": 9
        }
      ]
    },
    {
      "cell_type": "markdown",
      "metadata": {
        "id": "KNV-36L_HKUS",
        "colab_type": "text"
      },
      "source": [
        "### 5. Considere o dataset após a retirada das linhas que continham valores nulos para a coluna \"dteday\". Qual é o valor médio para os dados da coluna \"temp\" (temperatura ambiente normalizada)?\n",
        "\n",
        "- [x] 0,496\n",
        "- [ ] 1,192\n",
        "- [ ] 0,156\n",
        "- [ ] 0,192\n"
      ]
    },
    {
      "cell_type": "code",
      "metadata": {
        "id": "bcT_W33eqWWM",
        "colab_type": "code",
        "colab": {
          "base_uri": "https://localhost:8080/",
          "height": 0
        },
        "outputId": "2c755568-c7b4-44c1-e38e-a0b4920e0352"
      },
      "source": [
        "dteday_non_na.temp.mean()"
      ],
      "execution_count": 10,
      "outputs": [
        {
          "output_type": "execute_result",
          "data": {
            "text/plain": [
              "0.4969259206597582"
            ]
          },
          "metadata": {
            "tags": []
          },
          "execution_count": 10
        }
      ]
    },
    {
      "cell_type": "markdown",
      "metadata": {
        "id": "NP9Pf_OjHeD9",
        "colab_type": "text"
      },
      "source": [
        "### 6. Considere o dataset após a retirada das linhas que continham valores nulos para a coluna 'dteday'. Qual é o desvio padrão para os dados da coluna 'windspeed' (velocidade do vento normalizada)?\n",
        "\n",
        "- [ ] 0,189\n",
        "- [ ] 0,192\n",
        "- [ ] 1,122\n",
        "- [x] 0,122\n"
      ]
    },
    {
      "cell_type": "code",
      "metadata": {
        "id": "hZJEDieqqhFh",
        "colab_type": "code",
        "colab": {
          "base_uri": "https://localhost:8080/",
          "height": 0
        },
        "outputId": "548664f1-868f-4057-e31e-7f3a6cbab18b"
      },
      "source": [
        "dteday_non_na.windspeed.std()"
      ],
      "execution_count": 11,
      "outputs": [
        {
          "output_type": "execute_result",
          "data": {
            "text/plain": [
              "0.12230930508286268"
            ]
          },
          "metadata": {
            "tags": []
          },
          "execution_count": 11
        }
      ]
    },
    {
      "cell_type": "markdown",
      "metadata": {
        "id": "_-eSJJCHI5Lc",
        "colab_type": "text"
      },
      "source": [
        "### 7. Considere o dataset após a retirada das linhas que continham valores nulos para a coluna \"dteday\". Transforme a coluna \"season\" em valores categóricos. Quantas categorias diferentes existem?\n",
        "\n",
        "- [ ] 3\n",
        "- [ ] 2\n",
        "- [x] 4\n",
        "- [ ] 1\n"
      ]
    },
    {
      "cell_type": "code",
      "metadata": {
        "id": "kL178YmFqrWH",
        "colab_type": "code",
        "colab": {
          "base_uri": "https://localhost:8080/",
          "height": 0
        },
        "outputId": "6a9d1b77-2062-46af-bfe0-384963a18f88"
      },
      "source": [
        "dteday_non_na.season.value_counts()"
      ],
      "execution_count": 12,
      "outputs": [
        {
          "output_type": "execute_result",
          "data": {
            "text/plain": [
              "3.0    3623\n",
              "2.0    3523\n",
              "4.0    3478\n",
              "1.0    3437\n",
              "Name: season, dtype: int64"
            ]
          },
          "metadata": {
            "tags": []
          },
          "execution_count": 12
        }
      ]
    },
    {
      "cell_type": "markdown",
      "metadata": {
        "id": "DV8ky2gdJIwu",
        "colab_type": "text"
      },
      "source": [
        "### 8. Considere o dataset após a retirada das linhas que continham valores nulos para a coluna \"dteday\". Transforme a coluna \"dteday\" no tipo \"datetime\". Qual é a última data presente no dataset ( YYYY-MM-DD)?\n",
        "\n",
        "- [x] 2012-12-31\n",
        "- [ ] 2012-01-31\n",
        "- [ ] 2014-12-31\n",
        "- [ ] 2012-01-31\n"
      ]
    },
    {
      "cell_type": "code",
      "metadata": {
        "id": "Ne_k7o0Gro-U",
        "colab_type": "code",
        "colab": {
          "base_uri": "https://localhost:8080/",
          "height": 52
        },
        "outputId": "0cae6e9a-4922-4dd2-d883-507a8219bb03"
      },
      "source": [
        "dteday_non_na.dteday.tail(1)"
      ],
      "execution_count": 13,
      "outputs": [
        {
          "output_type": "execute_result",
          "data": {
            "text/plain": [
              "17378    2012-12-31\n",
              "Name: dteday, dtype: object"
            ]
          },
          "metadata": {
            "tags": []
          },
          "execution_count": 13
        }
      ]
    },
    {
      "cell_type": "markdown",
      "metadata": {
        "id": "B96w9jsxJV3a",
        "colab_type": "text"
      },
      "source": [
        "### 9. Considere o dataset após a retirada das linhas que continham valores nulos para a coluna 'dteday'. Considerendo o boxplot da variável 'windspeed' (velocidade do vento) é CORRETO afirmar?\n",
        "\n",
        "- [ ] Não existem possíveis outliers, pois não existem marcações (pontos) foras dos limites do boxplot.\n",
        "- [x] Existem possíveis outliers, pois existem marcações (pontos) foras dos limites do boxplot.\n",
        "- [ ] Existem possíveis outliers, pois não existem marcações (pontos) foras dos limites do boxplot.\n",
        "- [ ] Não existem possíveis outliers, pois existem marcações (pontos) foras dos limites do boxplot.\n"
      ]
    },
    {
      "cell_type": "code",
      "metadata": {
        "id": "BJtFwUJJKel-",
        "colab_type": "code",
        "colab": {
          "base_uri": "https://localhost:8080/",
          "height": 0
        },
        "outputId": "b1059b2f-027b-43fd-9f10-50309ea34a83"
      },
      "source": [
        "plt.figure(figsize=(10,8))\n",
        "sns.boxplot(data=dteday_non_na[['windspeed']])"
      ],
      "execution_count": 14,
      "outputs": [
        {
          "output_type": "execute_result",
          "data": {
            "text/plain": [
              "<matplotlib.axes._subplots.AxesSubplot at 0x7f4896584550>"
            ]
          },
          "metadata": {
            "tags": []
          },
          "execution_count": 14
        },
        {
          "output_type": "display_data",
          "data": {
            "image/png": "[encoded data removed]",
            "text/plain": [
              "<Figure size 720x576 with 1 Axes>"
            ]
          },
          "metadata": {
            "tags": [],
            "needs_background": "light"
          }
        }
      ]
    },
    {
      "cell_type": "markdown",
      "metadata": {
        "id": "NKBu-vniCVqD",
        "colab_type": "text"
      },
      "source": [
        "### 10. Considere o dataset após a retirada das linhas que continham valores nulos para a coluna 'dteday'. Selecione as colunas 'season', 'temp', 'atemp', 'hum', 'windspeed'. Plot a matriz de correlação. Sobre as variáveis 'hum' e 'cnt' é CORRETO afirmar:\n",
        "\n",
        "- [x] Possuem baixa correlação linear negativa\n",
        "- [ ] Possuem alta correlação linear positiva.\n",
        "- [ ] Possuem baixa correlação linear positiva.\n",
        "- [ ] Possuem alta correlação linear negativa."
      ]
    },
    {
      "cell_type": "code",
      "metadata": {
        "id": "HM9lnK2nvmHI",
        "colab_type": "code",
        "colab": {
          "base_uri": "https://localhost:8080/",
          "height": 0
        },
        "outputId": "eba18e85-4d64-462b-c605-67f83799ad3f"
      },
      "source": [
        "features = ['season', 'temp', 'atemp', 'hum', 'windspeed', 'cnt']\n",
        "plt.figure(figsize=(8,6))\n",
        "sns.heatmap(dteday_non_na[features].corr().round(3), annot=True)"
      ],
      "execution_count": 15,
      "outputs": [
        {
          "output_type": "execute_result",
          "data": {
            "text/plain": [
              "<matplotlib.axes._subplots.AxesSubplot at 0x7f489652f1d0>"
            ]
          },
          "metadata": {
            "tags": []
          },
          "execution_count": 15
        },
        {
          "output_type": "display_data",
          "data": {
            "image/png": "[encoded data removed]",
            "text/plain": [
              "<Figure size 576x432 with 2 Axes>"
            ]
          },
          "metadata": {
            "tags": [],
            "needs_background": "light"
          }
        }
      ]
    },
    {
      "cell_type": "code",
      "metadata": {
        "id": "uZ4irLstBia9",
        "colab_type": "code",
        "colab": {
          "base_uri": "https://localhost:8080/",
          "height": 0
        },
        "outputId": "6de28367-4539-4985-8b5a-9c871572bdf1"
      },
      "source": [
        "features = ['hum', 'cnt']\n",
        "plt.figure(figsize=(8,6))\n",
        "sns.heatmap(dteday_non_na[features].corr().round(3), annot=True)"
      ],
      "execution_count": 16,
      "outputs": [
        {
          "output_type": "execute_result",
          "data": {
            "text/plain": [
              "<matplotlib.axes._subplots.AxesSubplot at 0x7f48924f22e8>"
            ]
          },
          "metadata": {
            "tags": []
          },
          "execution_count": 16
        },
        {
          "output_type": "display_data",
          "data": {
            "image/png": "[encoded data removed]",
            "text/plain": [
              "<Figure size 576x432 with 2 Axes>"
            ]
          },
          "metadata": {
            "tags": [],
            "needs_background": "light"
          }
        }
      ]
    },
    {
      "cell_type": "markdown",
      "metadata": {
        "id": "6Cz2X7QDD9oi",
        "colab_type": "text"
      },
      "source": [
        "### 11. Preencha os valores nulos das colunas 'hum', 'cnt' e 'casual' com os valores médios. Utilize as variáveis 'hum' e 'casual' como independentes e a 'cnt' como dependente. Aplique uma regressão linear. Qual o valor de R2? Utilize as entradas como teste.\n",
        "- [ ] -0.40\n",
        "- [ ] -0.80\n",
        "- [ ] 0.80\n",
        "- [x] 0.40"
      ]
    },
    {
      "cell_type": "code",
      "metadata": {
        "id": "OViiquLrN3Jj",
        "colab_type": "code",
        "colab": {
          "base_uri": "https://localhost:8080/",
          "height": 0
        },
        "outputId": "2a2edc04-19d1-47ed-bcdf-0276aa6d6ded"
      },
      "source": [
        "df = dteday_non_na[['hum', 'casual', 'cnt']].copy()\n",
        "df.hum.fillna(df.hum.mean(), inplace=True)\n",
        "df.cnt.fillna(df.cnt.mean(), inplace=True)\n",
        "df.casual.fillna(df.casual.mean(), inplace=True)\n",
        "df.isna().sum()"
      ],
      "execution_count": 17,
      "outputs": [
        {
          "output_type": "execute_result",
          "data": {
            "text/plain": [
              "hum       0\n",
              "casual    0\n",
              "cnt       0\n",
              "dtype: int64"
            ]
          },
          "metadata": {
            "tags": []
          },
          "execution_count": 17
        }
      ]
    },
    {
      "cell_type": "code",
      "metadata": {
        "id": "h-cTmiBlclKd",
        "colab_type": "code",
        "colab": {
          "base_uri": "https://localhost:8080/",
          "height": 0
        },
        "outputId": "741971ce-7071-4f37-e352-4793bcb3e7d0"
      },
      "source": [
        "features = ['hum', 'casual']\n",
        "x = df[features]\n",
        "x.head()"
      ],
      "execution_count": 18,
      "outputs": [
        {
          "output_type": "execute_result",
          "data": {
            "text/html": [
              "<div>\n",
              "<style scoped>\n",
              "    .dataframe tbody tr th:only-of-type {\n",
              "        vertical-align: middle;\n",
              "    }\n",
              "\n",
              "    .dataframe tbody tr th {\n",
              "        vertical-align: top;\n",
              "    }\n",
              "\n",
              "    .dataframe thead th {\n",
              "        text-align: right;\n",
              "    }\n",
              "</style>\n",
              "<table border=\"1\" class=\"dataframe\">\n",
              "  <thead>\n",
              "    <tr style=\"text-align: right;\">\n",
              "      <th></th>\n",
              "      <th>hum</th>\n",
              "      <th>casual</th>\n",
              "    </tr>\n",
              "  </thead>\n",
              "  <tbody>\n",
              "    <tr>\n",
              "      <th>1</th>\n",
              "      <td>0.80</td>\n",
              "      <td>8.0</td>\n",
              "    </tr>\n",
              "    <tr>\n",
              "      <th>2</th>\n",
              "      <td>0.80</td>\n",
              "      <td>5.0</td>\n",
              "    </tr>\n",
              "    <tr>\n",
              "      <th>3</th>\n",
              "      <td>0.75</td>\n",
              "      <td>3.0</td>\n",
              "    </tr>\n",
              "    <tr>\n",
              "      <th>4</th>\n",
              "      <td>0.75</td>\n",
              "      <td>0.0</td>\n",
              "    </tr>\n",
              "    <tr>\n",
              "      <th>5</th>\n",
              "      <td>0.75</td>\n",
              "      <td>0.0</td>\n",
              "    </tr>\n",
              "  </tbody>\n",
              "</table>\n",
              "</div>"
            ],
            "text/plain": [
              "    hum  casual\n",
              "1  0.80     8.0\n",
              "2  0.80     5.0\n",
              "3  0.75     3.0\n",
              "4  0.75     0.0\n",
              "5  0.75     0.0"
            ]
          },
          "metadata": {
            "tags": []
          },
          "execution_count": 18
        }
      ]
    },
    {
      "cell_type": "code",
      "metadata": {
        "id": "ao-lax7wcv0T",
        "colab_type": "code",
        "colab": {
          "base_uri": "https://localhost:8080/",
          "height": 0
        },
        "outputId": "256ac00b-7c2b-43b0-f0aa-3cac3ba1979d"
      },
      "source": [
        "y = df.cnt\n",
        "y.head()"
      ],
      "execution_count": 19,
      "outputs": [
        {
          "output_type": "execute_result",
          "data": {
            "text/plain": [
              "1    40.0\n",
              "2    32.0\n",
              "3    13.0\n",
              "4     1.0\n",
              "5     1.0\n",
              "Name: cnt, dtype: float64"
            ]
          },
          "metadata": {
            "tags": []
          },
          "execution_count": 19
        }
      ]
    },
    {
      "cell_type": "code",
      "metadata": {
        "id": "69CzZ4lLcXqs",
        "colab_type": "code",
        "colab": {
          "base_uri": "https://localhost:8080/",
          "height": 0
        },
        "outputId": "e0db0e93-f9e5-4b1b-f6c1-6fdbf0ec3bd6"
      },
      "source": [
        "model = LinearRegression()\n",
        "regression = model.fit(x, y)\n",
        "predicted_cnt = regression.predict(x)\n",
        "predicted_cnt"
      ],
      "execution_count": 20,
      "outputs": [
        {
          "output_type": "execute_result",
          "data": {
            "text/plain": [
              "array([111.21425222, 104.5688863 , 105.12614851, ..., 191.89476367,\n",
              "       146.22989168, 135.03725861])"
            ]
          },
          "metadata": {
            "tags": []
          },
          "execution_count": 20
        }
      ]
    },
    {
      "cell_type": "code",
      "metadata": {
        "id": "6oeS0a1XdmBR",
        "colab_type": "code",
        "colab": {
          "base_uri": "https://localhost:8080/",
          "height": 0
        },
        "outputId": "0616b6e4-ccb0-4a14-850d-728d81d06f02"
      },
      "source": [
        "r2_score(df.cnt, predicted_cnt)"
      ],
      "execution_count": 21,
      "outputs": [
        {
          "output_type": "execute_result",
          "data": {
            "text/plain": [
              "0.4059859251122173"
            ]
          },
          "metadata": {
            "tags": []
          },
          "execution_count": 21
        }
      ]
    },
    {
      "cell_type": "markdown",
      "metadata": {
        "id": "xBaHGBUjEa0a",
        "colab_type": "text"
      },
      "source": [
        "### 12. Utilize os mesmos dados da questão anterior ('hum' e 'casual' como variáveis independentes e 'cnt' como variavel dependente). Aplique a árvore de decisão como regressão. Qual é o valor aproximado de R2? Utilize as entradas como teste e valores 'default'.\n",
        "\n",
        "- [ ] 0,40\n",
        "- [x] 0,70\n",
        "- [ ] 1,00\n",
        "- [ ] 0,30\n"
      ]
    },
    {
      "cell_type": "code",
      "metadata": {
        "id": "d7en5u2ofYi0",
        "colab_type": "code",
        "colab": {
          "base_uri": "https://localhost:8080/",
          "height": 0
        },
        "outputId": "379d7a63-c16d-43df-84c2-f79e244e3518"
      },
      "source": [
        "regressor = DecisionTreeRegressor(random_state=0)\n",
        "regressor.fit(x, y)"
      ],
      "execution_count": 22,
      "outputs": [
        {
          "output_type": "execute_result",
          "data": {
            "text/plain": [
              "DecisionTreeRegressor(ccp_alpha=0.0, criterion='mse', max_depth=None,\n",
              "                      max_features=None, max_leaf_nodes=None,\n",
              "                      min_impurity_decrease=0.0, min_impurity_split=None,\n",
              "                      min_samples_leaf=1, min_samples_split=2,\n",
              "                      min_weight_fraction_leaf=0.0, presort='deprecated',\n",
              "                      random_state=0, splitter='best')"
            ]
          },
          "metadata": {
            "tags": []
          },
          "execution_count": 22
        }
      ]
    },
    {
      "cell_type": "code",
      "metadata": {
        "id": "4-WqMXWmfs5_",
        "colab_type": "code",
        "colab": {
          "base_uri": "https://localhost:8080/",
          "height": 0
        },
        "outputId": "06da9f80-c3ed-4e2f-9688-8a593d94b9fe"
      },
      "source": [
        "predicted_cnt = regressor.predict(x)\n",
        "predicted_cnt"
      ],
      "execution_count": 23,
      "outputs": [
        {
          "output_type": "execute_result",
          "data": {
            "text/plain": [
              "array([141.66666667,  92.03316997, 103.37755996, ..., 215.29990198,\n",
              "        69.5       , 251.        ])"
            ]
          },
          "metadata": {
            "tags": []
          },
          "execution_count": 23
        }
      ]
    },
    {
      "cell_type": "code",
      "metadata": {
        "id": "HN4xlTt7f1pN",
        "colab_type": "code",
        "colab": {
          "base_uri": "https://localhost:8080/",
          "height": 0
        },
        "outputId": "a4fc76cb-1a75-4b47-dda9-bccf1499a214"
      },
      "source": [
        "r2_score(df.cnt, predicted_cnt)"
      ],
      "execution_count": 24,
      "outputs": [
        {
          "output_type": "execute_result",
          "data": {
            "text/plain": [
              "0.7098339715834964"
            ]
          },
          "metadata": {
            "tags": []
          },
          "execution_count": 24
        }
      ]
    },
    {
      "cell_type": "markdown",
      "metadata": {
        "id": "LbJR8RxMEnfW",
        "colab_type": "text"
      },
      "source": [
        "### 13. Comparando os valores de R2 encontrado com a regressão linear e com a árvore de decisão, é CORRETO afirmar:\n",
        "\n",
        "- [ ] O valor encontrado pela árvore de decisão foi negativo.\n",
        "- [x] O valor obtido pela árvore de decisão como regressor apresenta maior R2\n",
        "- [ ] O valor encontrado pela regressão linear é superior ao encontrado pela árvore de decisão.\n",
        "- [ ] Os valores encontrados pela árvore de decisão como regressor e a regressão linear são próximos.\n"
      ]
    },
    {
      "cell_type": "markdown",
      "metadata": {
        "id": "Mk33mnlFE3U1",
        "colab_type": "text"
      },
      "source": [
        "### 14. Comparando o SVM com a árvore de decisão é CORRETO afirmar:\n",
        "\n",
        "- [ ] SVM e Árvore de Decisão só podem ser utilizados para modelos de classificação.\n",
        "- [x] SVM encontra o hiperplano que gera a maior separação entre os dados.\n",
        "- [ ] Através da Árvore de Decisão não é possível encontrar os limiares de separação entre as classes.\n",
        "- [ ] Árvore de decisão encontra os hiperplanos de separação do mesmo modo que o SVM.\n"
      ]
    },
    {
      "cell_type": "markdown",
      "metadata": {
        "id": "vyAcakuQFEin",
        "colab_type": "text"
      },
      "source": [
        "### 15. Com base na árvore de decisão é CORRETO afirmar:\n",
        "\n",
        "- [ ] Ávore de Decisão é utilizada apenas para a classificação de dados contínuos.\n",
        "- [ ] A análise de regressão com a árvore de decisão só pode ser realizada com valores categóricos.\n",
        "- [x] Pode ser utilizada para classificação e regressão.\n",
        "- [ ] Não é possível encontrar os limites de separação entre os conjuntos de dados a partir de uma classificação realizada através da árvore de decisão.\n"
      ]
    },
    {
      "cell_type": "markdown",
      "metadata": {
        "id": "gBMAnm1t3Mw1",
        "colab_type": "text"
      },
      "source": [
        "## Support materials\n",
        "\n",
        "- [Decision Tree Algorithm — Explained](https://towardsdatascience.com/decision-tree-algorithm-explained-83beb6e78ef4)"
      ]
    }
  ]
}